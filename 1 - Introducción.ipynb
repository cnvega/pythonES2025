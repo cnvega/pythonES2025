{
 "cells": [
  {
   "cell_type": "markdown",
   "metadata": {
    "id": "2zfJJqid1ju_"
   },
   "source": [
    "**NOTA:** Si por accidente entras al modo edición de este texto, puedes regresar al modo de visualización presionando `Shift` + `Enter`.\n",
    "\n",
    "---\n",
    "\n",
    "# Aprender Python\n",
    "\n",
    "Bienvenido a este tutorial de **Python**, un lenguaje de programación versátil y poderoso, ampliamente utilizado en ciencia de datos, inteligencia artificial, automatización y muchas otras áreas. A lo largo de este material, exploraremos las bases de Python de manera interactiva utilizando **Notebooks**, una herramienta didáctica que nos permite combinar código, explicaciones y resultados en un mismo documento. \n",
    "\n",
    "### ¿Qué es un lenguaje de programación?\n",
    "\n",
    "Un **lenguaje de programación** es una forma de comunicación entre las personas humanas y las computadoras. Así como las personas usamos distintos idiomas para hablar entre nosotras, las computadoras entienden instrucciones escritas en lenguajes digitales específicos que les indican **qué hacer y cómo hacerlo**. \n",
    "\n",
    "Imagina que quieres que una computadora tenga una aplicación o programa nuevo, o quieres modificar alguna que uses. ¡Incluso más allá! Imagina que quieres que realice cálculos, que procese datos de una red social, o de un aparato de tu casa, o que controle un robot. Para lograr todo esto, necesitas escribir una serie de instrucciones en un lenguaje que la máquina pueda interpretar. Python es uno de esos lenguajes y se ha vuelto muy popular porque su sintaxis es simple y fácil de entender, ¡incluso si nunca antes has programado!.\n",
    "\n",
    "### ¿Por qué usar Python?\n",
    "\n",
    "Python es un lenguaje que destaca por ser:\n",
    "\n",
    "✅ **Fácil de aprender**: Su estructura es clara y se asemeja al lenguaje humano.\n",
    "\n",
    "✅ **Muy utilizado**: Empresas, universidades e investigadores lo usan en distintos campos.\n",
    "\n",
    "✅ **Versátil**: Se emplea en análisis de datos, inteligencia artificial, automatización, desarrollo web y mucho otros rubros tanto profesionales como de esparcimiento.\n",
    "\n",
    "✅ **Comunidad activa**: Hay miles de recursos, tutoriales y librerías que facilitan el trabajo.\n",
    "\n",
    "### ¿Cómo funciona Python?\n",
    "\n",
    "Python es un **lenguaje interpretado**, lo que significa que existe un programa (llamado *intérprete de Python*, o a veces simplemente *Python*) que se encarga de leer todas las instrucciones que escribes en este lenguaje y las ejecuta en la computadora. Hay otros lenguajes de programación que requieren que sus programas sean traducidos (o *compilados*) por completo antes de poder ejecutarlos en la computadora. En cambio, en Python puedes escribir una instrucción, ejecutarla de inmediato y ver el resultado, ¡y continuar programando!. Esto lo hace ideal para la experimentación y el aprendizaje, ya que permite probar ideas rápidamente sin necesidad de procesos complejos.\n",
    "\n",
    "### ¿Cómo usar este tutorial interactivo? \n",
    "\n",
    "Para aprender Python con este tutorial de forma interactiva, utilizaremos unos archivos llamados **Jupyter Notebooks** (¡este documento que estás leyendo es uno!). Estos *notebooks* los puedes descargar y ejecutar en tu propia computadora (para ello tendrías que Googlear cómo instalar Python y Jupyter en tu sistema), pero también los puedes ejecutar en la aplicación online [Google Colab](https://colab.research.google.com/) de forma gratuita. Sigue las instrucciones de estos Notebooks, completa los ejemplos sugeridos y ¡ya estarás aprendiendo Python! Mientras estudias, podrás ir ejecutando todas las instrucciones en Python incluidas a modo de ejemplo, modificarlas a tu gusto y crear las tuyas propias. Cada Notebook que enseñará herramientas del lenguaje, algoritmos y/o técnicas de programación nuevas.\n",
    "\n",
    "### ¿Cómo funcionan estos Notebooks?\n",
    "\n",
    "Los Notebooks son archivos especiales que pueden combinar fragmentos de código en Python y explicaciones en texto, lo que los hace perfectos para aprender y documentar ideas al mismo tiempo. Son **totalmente editables**, de modo que puedes agregar tus apuntes, ejemplos, o ¡incluso mejorarlos para que alguien más pueda aprender de ellos!\n",
    "\n",
    "Cada Notebook está compuesto por **celdas**, que pueden ser de dos tipos principales:\n",
    "\n",
    "* **Celdas de texto**: Permiten escribir explicaciones utilizando un formato llamado *Markdown*. Es una forma de escribir texto en la cual, usando sólo algunos caracteres extra, puedes crear títulos, listas, enlaces, imágenes y ecuaciones. Todo lo que has leído hasta ahora está escrito en este formato.  \n",
    "* **Celdas de código**: Son espacios donde puedes escribir instrucciones en Python y ejecutarlas para obtener resultados de inmediato.\n",
    "\n",
    "A continuación te guiaremos para que aprendas a reconocer y editar estos archivos.\n",
    "\n",
    "### Celdas de texto\n",
    "\n",
    "Las celdas de texto, como esta que has estado leyendo hasta este párrafo, pueden editarse haciendo doble click con el botón (izquierdo) del mouse sobre ellas. Prueba realizar tu primera edición utilizando la celda siguiente. **Hazle doble click a la próxima línea con letras cursivas** para activar el modo de edición y agrégale tu nombre, alias, ¡o lo que quieras!:"
   ]
  },
  {
   "cell_type": "markdown",
   "metadata": {},
   "source": [
    "*Escribe aquí tu información y luego presiona `Shift` + `Enter` para visualizar el cambio.*\n",
    "\n",
    "NOMBRE: ....\n"
   ]
  },
  {
   "cell_type": "markdown",
   "metadata": {},
   "source": [
    "Efectivamente, `Shift` + `Enter` es la forma en que podrás visualizar cualquier celda de texto luego que hayas activado el modo de edición. En el modo de edición no solo puedes agregar texto, sino también puedes utilizar todos los caracteres especiales de Markdown para darle un formato más lindo y amigable. ¡Activa el modo de edición en las celdas anteriores para que veas lo simple que es usar este formato!\n",
    "\n",
    "Si te gustó y deseas profundizar en Markdown, puedes consultar el siguiente tutorial interactivo:\n",
    "\n",
    "🔗 [Tutorial de Markdown](https://www.markdowntutorial.com/)"
   ]
  },
  {
   "cell_type": "markdown",
   "metadata": {},
   "source": [
    "### Celdas de código\n",
    "\n",
    "Las celdas de código son casillas del Notebook, similares a las de texto, pero que sólo pueden contener instrucciones en el lenguaje de programación Python. Notarás que tienen un aspecto distinto a las de texto tanto en el modo de visualización como en el de edición: una colorización distinta y los símbolos `[ ]` en su costado izquierdo. Entre las opciones que encontrarás en la barra superior de la interfaz que estás usando (que permiten, entre otros, cortar, copiar y pegar celdas del Notebook) existe una que te permite justamente definir el tipo de la celda que hayas seleccionado o estés editando. \n",
    "\n",
    "En general, el Notebook te permite escribir todas las instrucciones en Python que desees en las casillas de código, pero no las _ejecutará_ (es decir, convertirlas al lenguaje interno de la computadora para que ésta siga tus instrucciones) hasta que tú se lo indiques. Es decir, ¡puedes programar con traquilidad dado que tus instrucciones no se probarán hasta que tú lo decidas! Gracias a esta característica, estos Notebooks nos permiten escribir conjuntos de instrucciones de forma progresiva e ir probándolas cada vez que queramos. \n",
    "\n",
    "Para ejecutar una celda de código, puedes:\n",
    "\n",
    "* Presionar `Shift` + `Enter` para ejecutarla y pasar a la siguiente celda.\n",
    "* Presionar `Ctrl` + `Enter` (`Cmd` + `Enter` en macOS) para ejecutarla sin cambiar de celda.\n",
    "* Hacer clic en el botón `▶ Run` en la barra superior de la interfaz que estés utilizando.\n",
    "\n",
    "A continuación te presentamos una celda con instrucciones en _Python_. Prueba seleccionar la celda y ejecútala:"
   ]
  },
  {
   "cell_type": "code",
   "execution_count": 3,
   "metadata": {},
   "outputs": [
    {
     "name": "stdout",
     "output_type": "stream",
     "text": [
      "¡Hola, aprendiz!\n"
     ]
    }
   ],
   "source": [
    "print(\"¡Hola, aprendiz!\")"
   ]
  },
  {
   "cell_type": "markdown",
   "metadata": {},
   "source": [
    "Luego de ejecutar la celda anterior, deberías ver el resultado impreso justo debajo de ella. \n",
    "\n",
    "**¡Felicidades!** Has ejecutado tu primera instrucción en Python. Esta instrucción le ha dicho a la computadora que te salude creando y mostrando el texto \"¡Hola, aprendiz!\"."
   ]
  },
  {
   "cell_type": "markdown",
   "metadata": {},
   "source": [
    "### El kernel\n",
    "\n",
    "Con tu primera ejecución en Python de esta sesión, debes tener en cuenta que se ha activado un _intérprete_ de Python de fondo en la aplicación que estés usando, al cual se le suele llamar ***Kernel***. Este kernel se mantendrá **activo** mientras tengas la aplicación abierta, **recordará todas** las instrucciones que le ejecutes, y lo podrás reiniciar fácilmente cuando gustes desde las opciones de la parte superior de tu aplicación. Este kernel es persistente, lo que significa que todas las definiciones e instrucciones que ejecutes en una celda quedarán disponibles para las que ejecutes después, hasta que el entorno se reinicie. Es muy importante que tengas en cuenta esta forma de funcionamiento cuando comiences a desarrollar tus primeros algoritmos.\n",
    "\n",
    "Para comprobar lo anterior, ejecuta la siguiente celda que contiene una instrucción para almacenar un mensaje."
   ]
  },
  {
   "cell_type": "code",
   "execution_count": null,
   "metadata": {},
   "outputs": [],
   "source": [
    "mensaje = \"Python es un lenguaje fácil y poderoso\""
   ]
  },
  {
   "cell_type": "markdown",
   "metadata": {},
   "source": [
    "Ahora ejecuta esta otra celda para mostrar el contenido almacenado:"
   ]
  },
  {
   "cell_type": "code",
   "execution_count": null,
   "metadata": {},
   "outputs": [],
   "source": [
    "print(mensaje)"
   ]
  },
  {
   "cell_type": "markdown",
   "metadata": {},
   "source": [
    "Nota que la ejecución de la celda anterior ha funcionado sin problemas: el kernel ya conocía el contenido de `mensaje`, de modo que lo ha mostrado a pesar que no fue definido en esta misma celda, sino en una anterior.\n",
    "\n",
    "Cuando el entorno se **reinicia**, ya sea porque terminas tu sesión o lo reinicias manualmente con las opciones de tu aplicación, todas las definiciones se eliminarán y será necesario volver a ejecutar las celdas donde se definieron.\n",
    "\n",
    "Siempre ten en cuenta que cuando vayas a ejecutar varias celdas: **el orden en que las ejecutes es importante**. Considera el ejemplo anterior. Si ejecutaras la última celda sin haber ejecutado las anteriores, el kernel no podría mostrar ningún mensaje dado que el mismo nunca fue creado. ¡Puedes probarlo reiniciando el kernel y luego ejecutando sólo aquella última celda para que veas cómo te arroja un error! El mismo desaparecerá si la vuelves a ejecutar después de haber definido el mensaje. \n",
    "\n",
    "Para evitar que esta propiedad de los Notebooks te confunda, la interfaz siempre te enumerará las celdas que vayas ejecutando. Esto se indicará con un número que aparece en el costado izquierdo de cada celda de código cuando las ejecutes, el cual es un contador que irá incrementándose por cada celda ejecutada.  \n",
    "\n",
    "Con esta introducción en mente, ¡estás listo para comenzar a explorar Python en acción! 🚀"
   ]
  },
  {
   "cell_type": "markdown",
   "metadata": {},
   "source": [
    "### ¡Practica lo aprendido!\n",
    "\n",
    "En este Notebook has aprendido que:\n",
    "\n",
    "* Estos Notebooks se componen por **celdas**, las cuales pueden ser de **texto** o de **código**.\n",
    "* Se puede activar el **modo de edición** de cada celda haciendo doble click en ellas.\n",
    "* Las celdas se pueden visualizar (en caso del texto) o ejecutar (en caso del código) con `Shift` + `Enter`.\n",
    "* El kernel (intérprete de Python activado en la sesión) es persistente, de modo que recuerda las instrucciones ejecutadas en la sesión en curso.\n",
    "* La ejecución de cada celda de código se realiza de forma manual, de modo que el **orden** en que las ejecutes es importante.\n",
    "\n",
    "Además, has utilizado tu primera función de Python: la instrucción `print( )` que le indica a la computadora que muestre un mensaje por pantalla, y has creado tu primer objeto virtual: un texto almacenado en `mensaje`.\n",
    "\n",
    "Para practicar lo anterior, utiliza las celdas de texto y de código que se encuentran a continuación para que pruebes: crear nuevos mensajes con `print( )` o almacenar textos utilizando otros nombres distintos a `mensaje`. ¡Utiliza los ejemplos anteriores como guía! Si te faltan celdas, recuerda que puedes agregar más con la opción `+` de tu interfaz."
   ]
  },
  {
   "cell_type": "markdown",
   "metadata": {
    "id": "Dg6uHGR4ARpy"
   },
   "source": [
    "_texto_ "
   ]
  },
  {
   "cell_type": "markdown",
   "metadata": {},
   "source": [
    "_texto_"
   ]
  },
  {
   "cell_type": "code",
   "execution_count": null,
   "metadata": {},
   "outputs": [],
   "source": []
  },
  {
   "cell_type": "code",
   "execution_count": null,
   "metadata": {},
   "outputs": [],
   "source": []
  },
  {
   "cell_type": "code",
   "execution_count": 4,
   "metadata": {},
   "outputs": [
    {
     "name": "stdout",
     "output_type": "stream",
     "text": [
      "Espero que te haya gustado esta introducción!\n"
     ]
    }
   ],
   "source": [
    "despedida = \"Espero que te haya gustado esta introducción!\"\n",
    "print(despedida)"
   ]
  }
 ],
 "metadata": {
  "colab": {
   "provenance": []
  },
  "kernelspec": {
   "display_name": "Python 3 (ipykernel)",
   "language": "python",
   "name": "python3"
  },
  "language_info": {
   "codemirror_mode": {
    "name": "ipython",
    "version": 3
   },
   "file_extension": ".py",
   "mimetype": "text/x-python",
   "name": "python",
   "nbconvert_exporter": "python",
   "pygments_lexer": "ipython3",
   "version": "3.13.2"
  }
 },
 "nbformat": 4,
 "nbformat_minor": 4
}
