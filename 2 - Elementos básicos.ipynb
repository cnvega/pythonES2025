{
 "cells": [
  {
   "cell_type": "markdown",
   "id": "f640f506-63b2-4526-b77b-47791a638f48",
   "metadata": {},
   "source": [
    "# 2. Python en acción: tus primeros pasos\n",
    "\n",
    "Python no solo es un lenguaje de programación poderoso, sino también una herramienta que podemos utilizar de inmediato, sin configuraciones complicadas. En este módulo, daremos nuestros primeros pasos explorando cómo Python puede utilizarse como una calculadora interactiva, permitiéndonos realizar operaciones matemáticas de manera sencilla y directa.\n",
    "\n",
    "Pero Python no se limita a hacer cálculos. También permite **crear o definir elementos digitales** que podrás usar para organizar la información cuando construimos nuevos programas. Esto es fundamental porque nos da la posibilidad de reutilizar valores, modificarlos, combinarlos en expresiones más complejas y ¡hacerlos interactuar entre sí!. Esta característica, que iremos estudiando en estos módulos, nos permitirá crear programas de la complejidad que se nos antoje (y bueno, es una de las razones por la cual Python es tan popular y útil), pero ten en cuenta que comenzaremos aprendiendo con los elementos más sencillos disponibles tales como números o texto. Estudiaremos cómo funcionan y a diferenciarlos, sentando las bases que nos facilitarán la creación de programas más sofisticados más adelante.\n"
   ]
  },
  {
   "cell_type": "markdown",
   "id": "0ab54fe9-5a65-4660-bcdc-30026b88915f",
   "metadata": {},
   "source": [
    "## Metodología del tutorial \n",
    "\n",
    "A partir de ahora, cada explicación del tutorial estará usualmente acompañada de casillas de código que deberás inspeccionar (o estudiar) y ejecutar. Tu objetivo siempre debe ser **comprender por qué se produce cada resultado**, de modo que siempre debes tratar de **interpretar los códigos presentados intentando predecir cuál será el resultado de cada ejecución**. Para lograrlo, ¡podrás modificar a tu gusto los ejemplos y verificar sus resultados nuevos! Si tu predicción del resultado de una ejecución resulta correcta, entonces ¡estás aprendiendo el lenguaje! Puedes desarrollar la cantidad de ejemplos que gustes hasta alcanzar el aprendizaje.\n",
    "\n",
    "También te encontrarás lugares donde se te pedirá, como ejercicio, que desarrolles algún un nuevo ejemplo. **¡No te saltes estos desafíos!** Están pensados para que debas pensar, deducir o construir algo que es clave en tu aprendizaje del lenguaje. Aprender Python es similar a aprender un idioma, deporte, o instrumento musical nuevo: solo leyendo no es suficiente para que puedas hablar el idioma, jugar el deporte, tocar el instrumento o programar en Python. **Es fundamental que pongas en práctica tu conocimiento desde tu mente, tratando de explotar toda tu creatividad**. Te recomiendo que en esta primera etapa te apoyes lo menos posibles en buscadores como Google o IAs (como ChatGPT o Blackbox) que te desarrollen los ejemplos, dado que aquellos serán _simples_ o _poco creativos_, de modo que no te ayudarán a aprender en serio. ¡Desafía tu imaginación! te garantizo que eso marcará la diferencia en tu aprendizaje. \n"
   ]
  },
  {
   "cell_type": "markdown",
   "id": "32568b0a-324d-417f-a1a3-3179d56117e4",
   "metadata": {},
   "source": [
    "## 2.1 Python como calculadora\n",
    "\n",
    "Python puede usarse como una **calculadora interactiva**. Es decir, puedes crear instrucciones que le pidan al _intérprete_ realizar operaciones matemáticas de manera sencilla y directa. Podemos sumar (`+`), restar (`-`), multiplicar (`*`), dividir (`/`) ¡y muchas más!. Prueba estos ejemplos (recuerda que las celdas se ejecutan con `Shift` + `Enter`):"
   ]
  },
  {
   "cell_type": "code",
   "execution_count": null,
   "id": "83077a8f-9c80-47c1-bee1-807b9194854e",
   "metadata": {
    "colab": {
     "base_uri": "https://localhost:8080/"
    },
    "id": "i9x0kp9htyo4",
    "outputId": "26ca57db-e74b-4f01-883a-483712fd5cf0"
   },
   "outputs": [
    {
     "data": {
      "text/plain": [
       "8"
      ]
     },
     "execution_count": 1,
     "metadata": {},
     "output_type": "execute_result"
    }
   ],
   "source": [
    "3+5"
   ]
  },
  {
   "cell_type": "code",
   "execution_count": 7,
   "id": "e761759f-57bd-47ea-8185-47c62af45a5c",
   "metadata": {},
   "outputs": [
    {
     "data": {
      "text/plain": [
       "28.25"
      ]
     },
     "execution_count": 7,
     "metadata": {},
     "output_type": "execute_result"
    }
   ],
   "source": [
    "42.82-14.57"
   ]
  },
  {
   "cell_type": "code",
   "execution_count": 6,
   "id": "6e9bbb28-794e-4df0-81d1-803811106abc",
   "metadata": {},
   "outputs": [
    {
     "data": {
      "text/plain": [
       "8.4"
      ]
     },
     "execution_count": 6,
     "metadata": {},
     "output_type": "execute_result"
    }
   ],
   "source": [
    "14*0.6"
   ]
  },
  {
   "cell_type": "code",
   "execution_count": 5,
   "id": "fb1d65c6-671f-4209-8a0a-096be7351046",
   "metadata": {},
   "outputs": [
    {
     "data": {
      "text/plain": [
       "0.1111111111111111"
      ]
     },
     "execution_count": 5,
     "metadata": {},
     "output_type": "execute_result"
    }
   ],
   "source": [
    "1/9"
   ]
  },
  {
   "cell_type": "markdown",
   "id": "cceeeb4f-0fc8-4de6-ac74-c1dd8d2b7cf9",
   "metadata": {},
   "source": [
    "También puede combinar operaciones de forma correcta, respetando el uso de paréntesis y el orden estándar en que las operaciones deben evaluarse a nivel matemático. Por ejemplo: "
   ]
  },
  {
   "cell_type": "code",
   "execution_count": 2,
   "id": "f9e70f5d-9c3b-431e-a460-ce5f2de1a7b2",
   "metadata": {
    "colab": {
     "base_uri": "https://localhost:8080/"
    },
    "id": "1vExrAZB2ENN",
    "outputId": "966638f2-2ce0-4305-8144-1371a1cfb130"
   },
   "outputs": [
    {
     "data": {
      "text/plain": [
       "9.0"
      ]
     },
     "execution_count": 2,
     "metadata": {},
     "output_type": "execute_result"
    }
   ],
   "source": [
    "3*(6/3 + 1)"
   ]
  },
  {
   "cell_type": "markdown",
   "id": "d0f32880-c4f4-48cb-b50c-22892d67cf57",
   "metadata": {},
   "source": [
    "Es decir, Python es capar de evaluar correctamente todos esos ejemplos de memes que circulan por las redes sociales tratando de desafiar a las personas mezclando operaciones matemáticas elementales que deben ser evaluadas siguiendo el orden establecido por las reglas matemáticas. ¡Compruébalo! Aquí está el clásico \"desafío\" que hasta se ganó [una nota en un portal de noticias]([https://tn.com.ar/tecno/juegos/2024/11/29/cuanto-es-100-10-5-x-2-50-el-desafio-matematico-solo-para-genios/):"
   ]
  },
  {
   "cell_type": "code",
   "execution_count": 9,
   "id": "f84dca7c-1cf5-489d-9ec0-276ade835a76",
   "metadata": {},
   "outputs": [
    {
     "data": {
      "text/plain": [
       "154.0"
      ]
     },
     "execution_count": 9,
     "metadata": {},
     "output_type": "execute_result"
    }
   ],
   "source": [
    "100+10/5*2+50"
   ]
  },
  {
   "cell_type": "markdown",
   "id": "fe13c962-bdfd-4965-a78b-bb0111434b6e",
   "metadata": {},
   "source": [
    "**Ejercicio**: A continuación tienes algunas celdas de código donde debes crear tres ejemplos _creativos_ que utilicen y/o combinen operaciones matemáticas simples y paréntesis que tú puedas calcular manualmente. ¡Comprueba que el resultado es correcto!"
   ]
  },
  {
   "cell_type": "code",
   "execution_count": null,
   "id": "8d85a48f-becd-4dac-90c8-c4b5a9d5c62b",
   "metadata": {},
   "outputs": [],
   "source": []
  },
  {
   "cell_type": "code",
   "execution_count": null,
   "id": "a5c26dcc-66bb-4794-8a33-76e9b01d7c41",
   "metadata": {},
   "outputs": [],
   "source": []
  },
  {
   "cell_type": "code",
   "execution_count": null,
   "id": "b3c343dc-480b-4e00-b8d1-7c1dfdb52803",
   "metadata": {},
   "outputs": [],
   "source": []
  },
  {
   "cell_type": "markdown",
   "id": "513e906a-20a3-49bd-9713-d9d17fc9952b",
   "metadata": {},
   "source": [
    "Python también **puede realizar cálculos más complejos**, por ejemplo, usando potencias (`**`), raíces y una infinidad de más cálculos avanzados (hasta matemáticas de niveles universitarios...). Lo mejor de todo es que Python evalúa las expresiones en tiempo real, mostrando el resultado de inmediato, lo que lo convierte en una herramienta ideal para explorar y probar cálculos rápidamente. \n",
    "\n",
    "Acá hay algunos ejemplo con potencias. ¿Podrías calcular los resultados a mano antes de ejecutar las celdas? Si no, ¡no importa! Python te dará igualmente el resultado correcto):"
   ]
  },
  {
   "cell_type": "code",
   "execution_count": null,
   "id": "fa7dbd90-8285-49bf-b51f-111fb1eed38a",
   "metadata": {},
   "outputs": [],
   "source": [
    "4**2"
   ]
  },
  {
   "cell_type": "code",
   "execution_count": null,
   "id": "8b37ae9d-9d05-4348-b247-fc72891b4980",
   "metadata": {},
   "outputs": [],
   "source": [
    "2**4"
   ]
  },
  {
   "cell_type": "code",
   "execution_count": null,
   "id": "90d77e4c-1828-42c1-904e-c754ef0773a9",
   "metadata": {},
   "outputs": [],
   "source": [
    "2**3 + 3**2 "
   ]
  },
  {
   "cell_type": "markdown",
   "id": "edbc3b5d-cab2-42fb-bb67-8478d3a6b359",
   "metadata": {},
   "source": [
    "Ahora algo un poco más desafiante para el cálculo manual (desafío digno de meme, pero más interesante que el anterior)..."
   ]
  },
  {
   "cell_type": "code",
   "execution_count": 10,
   "id": "03e894a2-88b1-4047-9e11-960bd7666626",
   "metadata": {
    "colab": {
     "base_uri": "https://localhost:8080/"
    },
    "id": "qLQN25FB3oxV",
    "outputId": "767430ea-30fe-45ba-d59b-61ec10ec4ba3"
   },
   "outputs": [
    {
     "data": {
      "text/plain": [
       "54.0"
      ]
     },
     "execution_count": 10,
     "metadata": {},
     "output_type": "execute_result"
    }
   ],
   "source": [
    "2*(6/3 + 1)**3"
   ]
  },
  {
   "cell_type": "markdown",
   "id": "8d536962-40be-4c37-afcc-186af956ff27",
   "metadata": {},
   "source": [
    "Si te gustan las matemáticas, te habrás dado cuenta que hasta ahora hemos visto ejemplos que son posibles de resolver a mano (o incluso mentalmente). No obstante, Python nos ofrece la posibilidad de calcular cosas que mentalmente serían un lío... Pensemos en el ejemplo anterior, pero ahora suponiendo que necesitamos que el exponente de la potencia sea un número monstruosamente grande (e elegido 456 por azar). ¿Qué resultado te daría el intérprete de esta operación?"
   ]
  },
  {
   "cell_type": "code",
   "execution_count": 11,
   "id": "6a158947-6ff7-49ff-a47d-aba34a334b60",
   "metadata": {
    "colab": {
     "base_uri": "https://localhost:8080/"
    },
    "id": "zhTGyJ4wusxH",
    "outputId": "b6a83960-c085-4f25-b12d-0acb08b50924"
   },
   "outputs": [
    {
     "data": {
      "text/plain": [
       "7.384517904671098e+217"
      ]
     },
     "execution_count": 11,
     "metadata": {},
     "output_type": "execute_result"
    }
   ],
   "source": [
    "2*(6/3 + 1)**456"
   ]
  },
  {
   "cell_type": "markdown",
   "id": "32d72d19-48f0-498c-9aa5-843200d4c3db",
   "metadata": {},
   "source": [
    "¡Y violà! Python te devolvió la respueta con la misma rapidez y confianza que con los ejemplos simples. Justamtente, ¡el resultado es número que tiene 218 cifras! El cual lamentablemente no se puede \"mostrar\" completo por las limitaciones tecnológicas de este tipo de operaciones. En cambio, acá se utiliza la famosa _notación científica_ para representarlo, en la cual se muestran las primeras cifras del número, y se agrupan todas las otras utilizando una potencia de 10. Esto último es indicado con la letra `e` (tanto mayúscula como minúscula) en este lenguaje. Es decir, el número anterior se podría escribir como $7,384 \\times 10^{217}$.\n",
    "\n",
    "En general, se puede utilizar esta `e` para escribir números extremadamente grandes (o pequeños) utilizando esta notación científica. ¡Python no tendrá problemas en operar con ellos tal como lo hace con los otros!, aunque considerando algunas caractarísticas distintas que estudiaremos más adelante. ¿Te quedan dudas de cómo funciona esta forma de escribir números grandes? Observa este ejemplo que simplemente escribe el número _un millón_ utilizándola:"
   ]
  },
  {
   "cell_type": "code",
   "execution_count": 14,
   "id": "2b98848b-cbf3-44e3-b27f-07b67631b626",
   "metadata": {},
   "outputs": [
    {
     "data": {
      "text/plain": [
       "1000000.0"
      ]
     },
     "execution_count": 14,
     "metadata": {},
     "output_type": "execute_result"
    }
   ],
   "source": [
    "1e6"
   ]
  },
  {
   "cell_type": "markdown",
   "id": "5bae985b-7a91-4439-8f89-6d34724069b9",
   "metadata": {},
   "source": [
    "O algo más entretenido, el número aproximado de estrellas que hay en nuestra galaxia:"
   ]
  },
  {
   "cell_type": "code",
   "execution_count": 15,
   "id": "c3cb1037-405c-4d19-95c1-a5cacc29f7ef",
   "metadata": {},
   "outputs": [
    {
     "data": {
      "text/plain": [
       "10000000000.0"
      ]
     },
     "execution_count": 15,
     "metadata": {},
     "output_type": "execute_result"
    }
   ],
   "source": [
    "1e10"
   ]
  },
  {
   "cell_type": "markdown",
   "id": "140bdec5-f789-41d6-9ce5-869b1c0a3e64",
   "metadata": {},
   "source": [
    "Para el caso de los números muy chiquitos podemos usar la misma notación. Por ejemplo, consideremos el ancho de un cabello humano, aproximadamente 0.04 milímitros. Para escribir este valor en metros, tenemos que dividirlo por 1000, la cantidad de milímetros que hay en un metro. Esto sería:"
   ]
  },
  {
   "cell_type": "code",
   "execution_count": 6,
   "id": "de012d72-6986-482d-b9fc-bf8cd17373bc",
   "metadata": {},
   "outputs": [
    {
     "data": {
      "text/plain": [
       "4e-05"
      ]
     },
     "execution_count": 6,
     "metadata": {},
     "output_type": "execute_result"
    }
   ],
   "source": [
    "0.04/1000"
   ]
  },
  {
   "cell_type": "markdown",
   "id": "26105902-2a3a-456e-99b4-5e014f9f56db",
   "metadata": {},
   "source": [
    "¡Pero esto no es todo! Python también incluye algunas operaciones _interesantes_, que no las solemos aplicar en nuestra matemática académica, pero si bastante en la vida cotidiana. Por ejemplo, tiene una forma de calcular el **resto de la división**, un valor muy trascendente cuando realizamos una dividisión manualmente, y que tiene una variedad de aplicaciones dentro de la programación:"
   ]
  },
  {
   "cell_type": "code",
   "execution_count": 7,
   "id": "9d7bb550-289d-4e60-b7eb-aa8a9b28b167",
   "metadata": {
    "colab": {
     "base_uri": "https://localhost:8080/"
    },
    "id": "BqmYUcVZ2OEL",
    "outputId": "c45e0365-87c7-4d68-8544-b6e4c0614e9f"
   },
   "outputs": [
    {
     "data": {
      "text/plain": [
       "2"
      ]
     },
     "execution_count": 7,
     "metadata": {},
     "output_type": "execute_result"
    }
   ],
   "source": [
    "6%4"
   ]
  },
  {
   "cell_type": "markdown",
   "id": "87d7b701-1e15-4c0e-a7ed-ae1fcd13429b",
   "metadata": {},
   "source": [
    "## 2.2 Celdas con múltples instrucciones\n",
    "\n",
    "Hasta ahora hemos utilizado las celdas de código de una forma sencilla: con una única instrucción en Python que nos ha permitido ejecutar operaciones simples y obtener resultados de inmediato. Sin embargo, estos notebooks nos permiten incluir **múltiples instrucciones en una sola celda**, lo que nos da la posibilidad de agrupar cálculos, definir elementos y estructurar mejor nuestro código. ¡Incluso podemos escribir programas completos en una sola celda!\n",
    "\n",
    "Quizás ya te preguntaste al respecto de esto cuando te encontraste con el código de despedida al final del notebook introductorio. ¿Lo recuerdas? Era algo similar a lo siguiente: "
   ]
  },
  {
   "cell_type": "code",
   "execution_count": 11,
   "id": "d3532317-2d09-4179-8ff8-c16e97746fbd",
   "metadata": {},
   "outputs": [
    {
     "name": "stdout",
     "output_type": "stream",
     "text": [
      "Espero que te haya gustado la introducción!\n"
     ]
    }
   ],
   "source": [
    "msg = \"Espero que te haya gustado la introducción!\"\n",
    "print(msg)"
   ]
  },
  {
   "cell_type": "markdown",
   "id": "838da491-46ec-42f3-a668-1ad05cf97e8c",
   "metadata": {},
   "source": [
    "La anterior es, justamente, una celda de código que contiene múltiples instrucciones. Acá llegamos a una de las características del funcionamiento de Python que deberás tener siempre en mente: **el intérprete de Python considera que cada línea es una instrucción única a menos que se le indique lo contrario**. De este modo, la celda anterior contiene dos instrucciones distintas: una que almacena un mensaje, y otra que lo muestra como resultado de la ejecución.  \n",
    "\n",
    "Entonces, cuando ejecutamos una celda que contiene varias instrucciones, Python **lee y ejecuta cada línea de forma independiente, de arriba hacia abajo, en orden**, tal como si estuviera siguiendo una lista de pasos. Cada operación se procesa en secuencia antes de pasar a la siguiente, lo que nos permite realizar cálculos intermedios, almacenar resultados y hacer que diferentes partes del código interactúen entre sí.\n",
    "\n",
    "#### Comentarios\n",
    "\n",
    "Cosiderando esta característica, surge la necesidad de poder agregar explicaciones o aclaraciones en texto **entre las instrucciones de una misma celda** para hacer más comprensible el código desarrollado o simplemente mejorar la claridad de lo programado. Para ello, en Python se utiliza el símbolo `#` para indicar que todo el contenido de una instrucción a partir de ese símbolo no debe ser ejecutado, dado que corresponde a un **comentario para humanos** que la máquina debe ignorar en su procesamiento. Por ejemplo, podemos utilizar esto para clarificar nuestro código anterior: "
   ]
  },
  {
   "cell_type": "code",
   "execution_count": 16,
   "id": "33404ed6-797c-4ce7-b34a-1f16b633469c",
   "metadata": {},
   "outputs": [
    {
     "name": "stdout",
     "output_type": "stream",
     "text": [
      "Espero que te haya gustado la introducción!\n"
     ]
    }
   ],
   "source": [
    "# Esta línea es un comentario ignorado por el intérprete \n",
    "\n",
    "# La siguiente es la primera instrucción de la celda:\n",
    "msg = \"Espero que te haya gustado la introducción!\"\n",
    "\n",
    "# y esta es la segunda instrucción:\n",
    "print(msg)"
   ]
  },
  {
   "cell_type": "markdown",
   "id": "59ad46df-3373-41da-8b1c-cc77fe738f46",
   "metadata": {},
   "source": [
    "Estos comentarios incluso se pueden utilizar luego de las instrucciones de una misma línea:"
   ]
  },
  {
   "cell_type": "code",
   "execution_count": 15,
   "id": "b5e86d87-fb06-4bcc-a594-b5b6905153f6",
   "metadata": {},
   "outputs": [
    {
     "data": {
      "text/plain": [
       "8544"
      ]
     },
     "execution_count": 15,
     "metadata": {},
     "output_type": "execute_result"
    }
   ],
   "source": [
    "356*24   # la cantidad de horas en un año:"
   ]
  },
  {
   "cell_type": "markdown",
   "id": "de4aba3c-9635-4ae6-805f-1cdbfec129f0",
   "metadata": {},
   "source": [
    "Como recomendación general, incluir **comentarios explicativos** es una muy buena práctica al programar. Es decir, es importante tomarse el tiempo de incluir anotaciones en comentarios que expliquen qué hace cada parte del programa. Los comentarios no afectan la ejecución del código, pero son fundamentales para hacerlo más claro y comprensible. Agregar explicaciones breves sobre cálculos, decisiones o estructuras complejas **te ahorrará mucho tiempo cuando necesites revisar tus desarrollos en el futuro**. También facilita que otras personas puedan entender y reutilizar tú código sin necesidad de tener que analizar cada línea en detalle. Un código bien comentado no solo es más fácil de leer, sino que también ayuda a detectar errores y mantener un flujo de trabajo organizado.\n",
    "\n",
    "#### Resultados de múltiples instrucciones\n",
    "\n",
    "Considerando lo anterior es importante notar que, por defecto, **el resultado que se muestra al ejecutar una celda con múltiples instrucciones suele ser la salida de la última instrucción escrita**. Revisa el siguiente ejemplo:"
   ]
  },
  {
   "cell_type": "code",
   "execution_count": 17,
   "id": "fc476e3d-bc1e-42f1-88bb-193beb882589",
   "metadata": {
    "colab": {
     "base_uri": "https://localhost:8080/"
    },
    "id": "x_I-xSCB2h0Z",
    "outputId": "50c6f8a5-e8d0-4208-cb07-0ec96372c385"
   },
   "outputs": [
    {
     "data": {
      "text/plain": [
       "48"
      ]
     },
     "execution_count": 17,
     "metadata": {},
     "output_type": "execute_result"
    }
   ],
   "source": [
    "# ¿El resuldato de cuál de estas operaciones se muestra? \n",
    "4+5\n",
    "6*8"
   ]
  },
  {
   "cell_type": "markdown",
   "id": "77a0e6f3-f21e-4152-a0f8-20dac906c583",
   "metadata": {},
   "source": [
    "Si tienes dudas, puedes probar _comentando_ la última línea de la celda anterior para verificar que Python está igualmente realizando el cálculo, aunque no esté mostrando su resultado en pantalla. \n",
    "\n",
    "Por el contrario, si necesitamos mostrar otros valores intermedios dentro de la misma celda (sin tener que _comentar_ las líneas siguientes), debemos usar la _función_ `print()`. Como ya pudiste ver en el notebook anterior, esta instrucción nos permite mostrar explícitamente cualquier información en cualquier punto del código. Esto es especialmente útil cuando queremos revisar los pasos de un cálculo o analizar el comportamiento del programa. \n",
    "\n",
    "La función `print()` muestra en pantalla el elemento que incluyas entre sus paréntesis. Ya hemos visto que para mostrar un texto cualquiera con esta función es necesario encerrarlo con comillas. En el caso de resultados de operaciones, podemos usar igualmente `print()` agregando la operación (o su resultado) dentro de los paréntesis. Por ejemplo:"
   ]
  },
  {
   "cell_type": "code",
   "execution_count": 24,
   "id": "613bcef2-c74f-4c8c-a212-9349084d0471",
   "metadata": {},
   "outputs": [
    {
     "name": "stdout",
     "output_type": "stream",
     "text": [
      "Este es el resultado de 2+2:\n",
      "4\n",
      "Listo!\n"
     ]
    }
   ],
   "source": [
    "# Estas tres instrucciones se mostrarán:\n",
    "print(\"Este es el resultado de 2+2:\")\n",
    "print(2+2)\n",
    "print(\"Listo!\")"
   ]
  },
  {
   "cell_type": "markdown",
   "id": "72fe5ce1-3ab7-4cd7-852d-a7c74789d159",
   "metadata": {},
   "source": [
    "**EJERCICIO:** A continuación, tienes una celda con múltiples instrucciones incluyendo operaciones matemáticas para que la modifiques a tu gusto: comenta la(s) línea(s) de tu elección, agrega comentarios nuevos o agrega/elimina instrucciones `print()` para que practiques lo estudiado hasta ahora. ¡Ejecútala luego de cada cambio para comprobar qué resultado se muestra al final! ¿Puedes conseguir que se muestre el resultado de la operación $2^3$ sin eliminar los mensajes posteriores?"
   ]
  },
  {
   "cell_type": "code",
   "execution_count": 21,
   "id": "87470530-8e8f-4b8a-a836-ec1a968eb0ae",
   "metadata": {},
   "outputs": [
    {
     "name": "stdout",
     "output_type": "stream",
     "text": [
      "Este es un mensaje en medio de la ejecución.\n"
     ]
    },
    {
     "data": {
      "text/plain": [
       "10"
      ]
     },
     "execution_count": 21,
     "metadata": {},
     "output_type": "execute_result"
    }
   ],
   "source": [
    "# recuerda que puedes gregar todos los comentarios que quieras!\n",
    "2**3\n",
    "\n",
    "# mostremos un mensaje:\n",
    "print(\"Este es un mensaje en medio de la ejecución.\")\n",
    "\n",
    "4+5\n",
    "\n",
    "5*2"
   ]
  },
  {
   "cell_type": "markdown",
   "id": "534e7b54-6b03-45eb-9e6d-fcebf8325e0e",
   "metadata": {
    "id": "StGq0Bbq5GWX"
   },
   "source": [
    "## Variables\n",
    "\n",
    "En Python podemos definir \"variables\" que tienen un \"nombre\" y \"contenido\":"
   ]
  },
  {
   "cell_type": "code",
   "execution_count": 7,
   "id": "dec90ed1-2f3c-42a0-b059-c7248185ccc0",
   "metadata": {
    "id": "SnU62rRR41Bv"
   },
   "outputs": [],
   "source": [
    "# Acá tenemos dos definiciones\n",
    "a = 3\n",
    "b = 3.1415"
   ]
  },
  {
   "cell_type": "code",
   "execution_count": 8,
   "id": "94b0125f-651b-434a-b694-604932f831b0",
   "metadata": {
    "colab": {
     "base_uri": "https://localhost:8080/"
    },
    "id": "30ycIgPE5Y19",
    "outputId": "754930e4-8ebb-4aab-afb8-b5bbe1d0f3c7"
   },
   "outputs": [
    {
     "data": {
      "text/plain": [
       "9.4245"
      ]
     },
     "execution_count": 8,
     "metadata": {},
     "output_type": "execute_result"
    }
   ],
   "source": [
    "#Podemos hacer operaciones entre \"variables\"\n",
    "a*b"
   ]
  },
  {
   "cell_type": "code",
   "execution_count": 9,
   "id": "45d6dc89-7f08-454f-9fa8-68ef79fa06dd",
   "metadata": {
    "colab": {
     "base_uri": "https://localhost:8080/"
    },
    "id": "ob3t4n826Ulz",
    "outputId": "8f129915-7edf-4f0a-c426-eb24e148a5c8"
   },
   "outputs": [
    {
     "data": {
      "text/plain": [
       "31.54106995953402"
      ]
     },
     "execution_count": 9,
     "metadata": {},
     "output_type": "execute_result"
    }
   ],
   "source": [
    "a**b"
   ]
  },
  {
   "cell_type": "markdown",
   "id": "758aab56-57c8-4485-b53c-a176235f96c4",
   "metadata": {
    "id": "B9KZiKfwvZ6-"
   },
   "source": [
    "Cada vez que se define una \"variable\" en Python, en verdad se crean dos cosas:\n",
    "*   El objeto que contiene la variable.\n",
    "*   La referencia (nombre) que se usará para acceder al objeto.\n",
    "\n",
    "Así, cuando hacemos\n",
    "\n",
    "> a = 3\n",
    "\n",
    "Python no solo almacena el entero \"3\" en la memoria, sino que también su nombre \"a\". Es importante tener en cuenta esto para usar correctamente Python.\n",
    "\n"
   ]
  },
  {
   "cell_type": "markdown",
   "id": "ceb15252-d3b4-4106-a29a-5f368037f9b3",
   "metadata": {
    "id": "fTTZvH9J6aqR"
   },
   "source": [
    "Si queremos saber qué es (consultar por el tipo) una variable, en Python podemos utilizar la **función** `type`."
   ]
  },
  {
   "cell_type": "code",
   "execution_count": 10,
   "id": "fa2f187c-2398-41fa-9896-d177e85ab6c0",
   "metadata": {
    "colab": {
     "base_uri": "https://localhost:8080/"
    },
    "id": "pqV3dnqb6UoC",
    "outputId": "fa721c7b-8583-4147-f742-80f176f97811"
   },
   "outputs": [
    {
     "data": {
      "text/plain": [
       "int"
      ]
     },
     "execution_count": 10,
     "metadata": {},
     "output_type": "execute_result"
    }
   ],
   "source": [
    "type(3)"
   ]
  },
  {
   "cell_type": "code",
   "execution_count": 11,
   "id": "d853c6d4-f4f6-4052-a94f-1dc8aa0e1c9c",
   "metadata": {
    "colab": {
     "base_uri": "https://localhost:8080/"
    },
    "id": "fAaCqP1y6oSR",
    "outputId": "64c68e46-1b27-4b27-db4f-c1fee233a99e"
   },
   "outputs": [
    {
     "data": {
      "text/plain": [
       "float"
      ]
     },
     "execution_count": 11,
     "metadata": {},
     "output_type": "execute_result"
    }
   ],
   "source": [
    "type(b)"
   ]
  },
  {
   "cell_type": "code",
   "execution_count": 12,
   "id": "40329dd0-1a2d-454c-9534-735629a774c1",
   "metadata": {
    "colab": {
     "base_uri": "https://localhost:8080/"
    },
    "id": "rPEY3cJ46rzw",
    "outputId": "edafb645-eabe-403a-ed19-c6c68f33b592"
   },
   "outputs": [
    {
     "data": {
      "text/plain": [
       "type"
      ]
     },
     "execution_count": 12,
     "metadata": {},
     "output_type": "execute_result"
    }
   ],
   "source": [
    "type(type)"
   ]
  },
  {
   "cell_type": "markdown",
   "id": "e8a9b819-daf9-4b85-8679-7dda1dac4219",
   "metadata": {
    "id": "Hakuuh0g6Z6D"
   },
   "source": [
    "Vamos a utilizar `type` cada vez que no sepamos realmente qué tipo de objeto tengo almacenado en una \"variable\" (referencia)"
   ]
  },
  {
   "cell_type": "code",
   "execution_count": 13,
   "id": "b193a7a5-899c-4c59-aba0-9299243fcc2c",
   "metadata": {
    "colab": {
     "base_uri": "https://localhost:8080/"
    },
    "id": "xWW2IBax6rIx",
    "outputId": "0d6a0a43-0986-4c46-c12d-d245605767de"
   },
   "outputs": [
    {
     "data": {
      "text/plain": [
       "6"
      ]
     },
     "execution_count": 13,
     "metadata": {},
     "output_type": "execute_result"
    }
   ],
   "source": [
    "# Tip: podemos abreviar algunas operaciones cuando hay variables repetidas\n",
    "a = 5\n",
    "a = a + 1\n",
    "a"
   ]
  },
  {
   "cell_type": "code",
   "execution_count": 14,
   "id": "6ea6f02e-fbdf-4634-b622-b9a5d06b0d09",
   "metadata": {
    "colab": {
     "base_uri": "https://localhost:8080/"
    },
    "id": "hEpmW8wp6Upa",
    "outputId": "99c047c0-1bb8-44c8-975a-29000aab2281"
   },
   "outputs": [
    {
     "data": {
      "text/plain": [
       "6"
      ]
     },
     "execution_count": 14,
     "metadata": {},
     "output_type": "execute_result"
    }
   ],
   "source": [
    "# Esto se puede escribir como\n",
    "a = 5\n",
    "a += 1\n",
    "a"
   ]
  },
  {
   "cell_type": "code",
   "execution_count": 15,
   "id": "b118f54d-8eba-4eb6-8085-be6c6d1812c0",
   "metadata": {
    "colab": {
     "base_uri": "https://localhost:8080/",
     "height": 196
    },
    "id": "5G4CKAsD5des",
    "outputId": "7d3db6e8-cbd4-4157-aa54-3713ee1262de"
   },
   "outputs": [
    {
     "ename": "NameError",
     "evalue": "name 'n' is not defined",
     "output_type": "error",
     "traceback": [
      "\u001b[0;31m---------------------------------------------------------------------------\u001b[0m",
      "\u001b[0;31mNameError\u001b[0m                                 Traceback (most recent call last)",
      "\u001b[0;32m<ipython-input-15-5c1cc0070e1e>\u001b[0m in \u001b[0;36m<cell line: 4>\u001b[0;34m()\u001b[0m\n\u001b[1;32m      2\u001b[0m \u001b[0;31m# qué variables (referencias) se han creado hasta el momento.\u001b[0m\u001b[0;34m\u001b[0m\u001b[0;34m\u001b[0m\u001b[0m\n\u001b[1;32m      3\u001b[0m \u001b[0;31m# Por ejemplo, si consultamos por una que no hemos definido:\u001b[0m\u001b[0;34m\u001b[0m\u001b[0;34m\u001b[0m\u001b[0m\n\u001b[0;32m----> 4\u001b[0;31m \u001b[0mn\u001b[0m\u001b[0;34m\u001b[0m\u001b[0;34m\u001b[0m\u001b[0m\n\u001b[0m",
      "\u001b[0;31mNameError\u001b[0m: name 'n' is not defined"
     ]
    }
   ],
   "source": [
    "# Python \"sabe\" (porque el intérprete está en ejecución y no se ha detenido)\n",
    "# qué variables (referencias) se han creado hasta el momento.\n",
    "# Por ejemplo, si consultamos por una que no hemos definido:\n",
    "n"
   ]
  },
  {
   "cell_type": "code",
   "execution_count": 16,
   "id": "f3b2081a-b560-4795-b30c-9305011a0b4a",
   "metadata": {
    "colab": {
     "base_uri": "https://localhost:8080/"
    },
    "id": "BTxmIEvm7jH0",
    "outputId": "7d5c4835-2087-4d58-eef4-3a570cf227fd"
   },
   "outputs": [
    {
     "name": "stdout",
     "output_type": "stream",
     "text": [
      "a\t b\t \n"
     ]
    }
   ],
   "source": [
    "# Podemos acceder a la lista de referencias\n",
    "# definidas con el comando mágico:\n",
    "%who"
   ]
  },
  {
   "cell_type": "code",
   "execution_count": 17,
   "id": "6b02eb67-ce2e-4082-b327-6fbca052c7af",
   "metadata": {
    "colab": {
     "base_uri": "https://localhost:8080/",
     "height": 196
    },
    "id": "U4-HItNo7z9R",
    "outputId": "9777504c-c3b5-43f3-de31-cb363544daca"
   },
   "outputs": [
    {
     "ename": "ZeroDivisionError",
     "evalue": "division by zero",
     "output_type": "error",
     "traceback": [
      "\u001b[0;31m---------------------------------------------------------------------------\u001b[0m",
      "\u001b[0;31mZeroDivisionError\u001b[0m                         Traceback (most recent call last)",
      "\u001b[0;32m<ipython-input-17-3a5717d93b4b>\u001b[0m in \u001b[0;36m<cell line: 4>\u001b[0;34m()\u001b[0m\n\u001b[1;32m      2\u001b[0m \u001b[0;31m# Python puede reconocer el tipo de error cuando este sucede. Ejemplo:\u001b[0m\u001b[0;34m\u001b[0m\u001b[0;34m\u001b[0m\u001b[0m\n\u001b[1;32m      3\u001b[0m \u001b[0mzero\u001b[0m \u001b[0;34m=\u001b[0m \u001b[0;36m0\u001b[0m\u001b[0;34m\u001b[0m\u001b[0;34m\u001b[0m\u001b[0m\n\u001b[0;32m----> 4\u001b[0;31m \u001b[0ma\u001b[0m \u001b[0;34m/\u001b[0m \u001b[0mzero\u001b[0m\u001b[0;34m\u001b[0m\u001b[0;34m\u001b[0m\u001b[0m\n\u001b[0m",
      "\u001b[0;31mZeroDivisionError\u001b[0m: division by zero"
     ]
    }
   ],
   "source": [
    "# Como sucedión con el ejemplo de la referencia desconocida,\n",
    "# Python puede reconocer el tipo de error cuando este sucede. Ejemplo:\n",
    "zero = 0\n",
    "a / zero"
   ]
  },
  {
   "cell_type": "code",
   "execution_count": 18,
   "id": "f466a8c2-07a0-48aa-8dec-0e3db8db94b4",
   "metadata": {
    "id": "g9bUriit9g2y"
   },
   "outputs": [],
   "source": [
    "# Para hacer operaciones matemáticas mas avanzadas,\n",
    "# utilizamos una librería (o módulo) de Python.\n",
    "# Todas se cargan con la instrucción import.\n",
    "# En este caso, usaremos math. :\n",
    "import math"
   ]
  },
  {
   "cell_type": "code",
   "execution_count": 19,
   "id": "9e4d322e-ad3f-4f8c-8e94-c9b65af74eb7",
   "metadata": {
    "colab": {
     "base_uri": "https://localhost:8080/"
    },
    "id": "C3SUZnNa95IQ",
    "outputId": "04c3f533-0b35-4d8d-dc5e-c63d996a5655"
   },
   "outputs": [
    {
     "data": {
      "text/plain": [
       "module"
      ]
     },
     "execution_count": 19,
     "metadata": {},
     "output_type": "execute_result"
    }
   ],
   "source": [
    "# veamos el tipo de este objeto:\n",
    "type(math)"
   ]
  },
  {
   "cell_type": "code",
   "execution_count": 20,
   "id": "40679d0c-c354-446d-8a1c-b0e0bbb2e6b0",
   "metadata": {
    "colab": {
     "base_uri": "https://localhost:8080/"
    },
    "id": "nLxgpVIW97JP",
    "outputId": "c67c096b-3fd7-4e32-daa6-146bdbdf6226"
   },
   "outputs": [
    {
     "data": {
      "text/plain": [
       "3.6596427619333136"
      ]
     },
     "execution_count": 20,
     "metadata": {},
     "output_type": "execute_result"
    }
   ],
   "source": [
    "# Podemos acceder al contenido de un módulo con el punto:\n",
    "math.log10(4567.123567)"
   ]
  },
  {
   "cell_type": "markdown",
   "id": "c429dc87-56d2-4879-b256-9818dd31e048",
   "metadata": {
    "id": "p2yruyXb-9lb"
   },
   "source": [
    "## Cadenas de caracteres\n",
    "\n",
    "En Python también puedo definir cadenas de caracteres (conocidas usualmente como _strings_)"
   ]
  },
  {
   "cell_type": "code",
   "execution_count": 21,
   "id": "55d03d30-33b7-4d45-9355-5ec6c162674e",
   "metadata": {
    "id": "TxVS-ahL-x6r"
   },
   "outputs": [],
   "source": [
    "s1 = \"Hola\"\n",
    "s2 = \"Mundo\""
   ]
  },
  {
   "cell_type": "code",
   "execution_count": 22,
   "id": "b6956190-6ca7-47c8-aa5b-d481696c985a",
   "metadata": {
    "colab": {
     "base_uri": "https://localhost:8080/",
     "height": 55
    },
    "id": "JiwNLT3m_MhY",
    "outputId": "59ede78f-e799-4ba8-c1f8-b99d940b035d"
   },
   "outputs": [
    {
     "data": {
      "application/vnd.google.colaboratory.intrinsic+json": {
       "type": "string"
      },
      "text/plain": [
       "'Hola Mundo'"
      ]
     },
     "execution_count": 22,
     "metadata": {},
     "output_type": "execute_result"
    }
   ],
   "source": [
    "# Puedo combinar las variables utilizando las mismas comillas\n",
    "\"Hola\"    \" \"     \"Mundo\""
   ]
  },
  {
   "cell_type": "code",
   "execution_count": 23,
   "id": "fd85df0f-ea99-4daa-8bbd-c99af94db4c0",
   "metadata": {
    "colab": {
     "base_uri": "https://localhost:8080/",
     "height": 55
    },
    "id": "6lx_iFB__Nqo",
    "outputId": "5b45c56a-7bfe-4316-bcda-814374eea9bf"
   },
   "outputs": [
    {
     "data": {
      "application/vnd.google.colaboratory.intrinsic+json": {
       "type": "string"
      },
      "text/plain": [
       "'HolaMundo'"
      ]
     },
     "execution_count": 23,
     "metadata": {},
     "output_type": "execute_result"
    }
   ],
   "source": [
    "# Incluso puedo realizar operaciones entre las strings:\n",
    "s1 + s2"
   ]
  },
  {
   "cell_type": "code",
   "execution_count": 24,
   "id": "c456a460-3a97-46fa-80bc-ed73f0089ebe",
   "metadata": {
    "colab": {
     "base_uri": "https://localhost:8080/",
     "height": 55
    },
    "id": "xlZ9boVfAD-E",
    "outputId": "2f7c3f21-362a-4970-8d74-3ddc4411ce60"
   },
   "outputs": [
    {
     "data": {
      "application/vnd.google.colaboratory.intrinsic+json": {
       "type": "string"
      },
      "text/plain": [
       "'Hola Mundo cruel'"
      ]
     },
     "execution_count": 24,
     "metadata": {},
     "output_type": "execute_result"
    }
   ],
   "source": [
    "s1 + \" \" + s2 + \" cruel\""
   ]
  },
  {
   "cell_type": "code",
   "execution_count": 25,
   "id": "7e7ad43e-baf2-4124-93c5-a1bbf7c1668c",
   "metadata": {
    "id": "PBWMXRukAKiz"
   },
   "outputs": [],
   "source": [
    "#y eso incluso lo podemos guardar en una variable nueva:\n",
    "s3 = s1 + \" \" + s2 + \" cruel\""
   ]
  },
  {
   "cell_type": "code",
   "execution_count": 26,
   "id": "f19b33c1-0d25-42a3-ba85-094019b3fea9",
   "metadata": {
    "colab": {
     "base_uri": "https://localhost:8080/",
     "height": 55
    },
    "id": "2TL8yFXqAQ_S",
    "outputId": "dbd21d45-28d9-4151-ce98-f3b6cea68e82"
   },
   "outputs": [
    {
     "data": {
      "application/vnd.google.colaboratory.intrinsic+json": {
       "type": "string"
      },
      "text/plain": [
       "'Hola Mundo cruel'"
      ]
     },
     "execution_count": 26,
     "metadata": {},
     "output_type": "execute_result"
    }
   ],
   "source": [
    "s3"
   ]
  }
 ],
 "metadata": {
  "kernelspec": {
   "display_name": "Python 3 (ipykernel)",
   "language": "python",
   "name": "python3"
  },
  "language_info": {
   "codemirror_mode": {
    "name": "ipython",
    "version": 3
   },
   "file_extension": ".py",
   "mimetype": "text/x-python",
   "name": "python",
   "nbconvert_exporter": "python",
   "pygments_lexer": "ipython3",
   "version": "3.13.2"
  }
 },
 "nbformat": 4,
 "nbformat_minor": 5
}
