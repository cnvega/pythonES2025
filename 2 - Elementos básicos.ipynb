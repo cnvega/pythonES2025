{
 "cells": [
  {
   "cell_type": "markdown",
   "id": "f640f506-63b2-4526-b77b-47791a638f48",
   "metadata": {},
   "source": [
    "# 2. Python en acción: tus primeros pasos\n",
    "\n",
    "Python no solo es un lenguaje de programación poderoso, sino también una herramienta que podemos utilizar de inmediato, sin configuraciones complicadas. En este módulo, daremos nuestros primeros pasos explorando cómo Python puede utilizarse como una calculadora interactiva, permitiéndonos realizar operaciones matemáticas de manera sencilla y directa.\n",
    "\n",
    "Pero Python no se limita a hacer cálculos. También permite **crear o definir elementos digitales** que podrás usar para organizar la información cuando construimos nuevos programas. Esto es fundamental porque nos da la posibilidad de reutilizar valores, modificarlos, combinarlos en expresiones más complejas y ¡hacerlos interactuar entre sí!. Esta característica, que iremos estudiando en estos módulos, nos permitirá crear programas de la complejidad que se nos antoje (y bueno, es una de las razones por la cual Python es tan popular y útil), pero ten en cuenta que comenzaremos aprendiendo con los elementos más sencillos disponibles tales como números o texto. Estudiaremos cómo funcionan y a diferenciarlos, sentando las bases que nos facilitarán la creación de programas más sofisticados más adelante.\n"
   ]
  },
  {
   "cell_type": "markdown",
   "id": "0ab54fe9-5a65-4660-bcdc-30026b88915f",
   "metadata": {},
   "source": [
    "## Metodología del tutorial \n",
    "\n",
    "A partir de ahora, cada explicación del tutorial estará usualmente acompañada de casillas de código que deberás inspeccionar (o estudiar) y ejecutar. Tu objetivo siempre debe ser **comprender por qué se produce cada resultado**, de modo que siempre debes tratar de **interpretar los códigos presentados intentando predecir cuál será el resultado de cada ejecución**. Para lograrlo, ¡podrás modificar a tu gusto los ejemplos y verificar sus resultados nuevos! Si tu predicción del resultado de una ejecución resulta correcta, entonces ¡estás aprendiendo el lenguaje! Puedes desarrollar la cantidad de ejemplos que gustes hasta alcanzar el aprendizaje.\n",
    "\n",
    "También te encontrarás lugares donde se te pedirá, como ejercicio, que desarrolles algún un nuevo ejemplo. **¡No te saltes estos desafíos!** Están pensados para que debas pensar, deducir o construir algo que es clave en tu aprendizaje del lenguaje. Aprender Python es similar a aprender un idioma, deporte, o instrumento musical nuevo: solo leyendo no es suficiente para que puedas hablar el idioma, jugar el deporte, tocar el instrumento o programar en Python. **Es fundamental que pongas en práctica tu conocimiento desde tu mente, tratando de explotar toda tu creatividad**. Te recomiendo que en esta primera etapa te apoyes lo menos posibles en buscadores como Google o IAs (como ChatGPT o Blackbox) que te desarrollen los ejemplos, dado que aquellos serán _simples_ o _poco creativos_, de modo que no te ayudarán a aprender en serio. ¡Desafía tu imaginación! te garantizo que eso marcará la diferencia en tu aprendizaje. \n"
   ]
  },
  {
   "cell_type": "markdown",
   "id": "32568b0a-324d-417f-a1a3-3179d56117e4",
   "metadata": {},
   "source": [
    "## 2.1 Python como calculadora\n",
    "\n",
    "Python puede usarse como una **calculadora interactiva**. Es decir, puedes crear instrucciones que le pidan al _intérprete_ realizar operaciones matemáticas de manera sencilla y directa. Podemos sumar (`+`), restar (`-`), multiplicar (`*`), dividir (`/`) ¡y muchas más!. Prueba estos ejemplos (recuerda que las celdas se ejecutan con `Shift` + `Enter`):"
   ]
  },
  {
   "cell_type": "code",
   "execution_count": null,
   "id": "83077a8f-9c80-47c1-bee1-807b9194854e",
   "metadata": {
    "colab": {
     "base_uri": "https://localhost:8080/"
    },
    "id": "i9x0kp9htyo4",
    "outputId": "26ca57db-e74b-4f01-883a-483712fd5cf0"
   },
   "outputs": [
    {
     "data": {
      "text/plain": [
       "8"
      ]
     },
     "execution_count": 1,
     "metadata": {},
     "output_type": "execute_result"
    }
   ],
   "source": [
    "3+5"
   ]
  },
  {
   "cell_type": "code",
   "execution_count": 7,
   "id": "e761759f-57bd-47ea-8185-47c62af45a5c",
   "metadata": {},
   "outputs": [
    {
     "data": {
      "text/plain": [
       "28.25"
      ]
     },
     "execution_count": 7,
     "metadata": {},
     "output_type": "execute_result"
    }
   ],
   "source": [
    "42.82-14.57"
   ]
  },
  {
   "cell_type": "code",
   "execution_count": 6,
   "id": "6e9bbb28-794e-4df0-81d1-803811106abc",
   "metadata": {},
   "outputs": [
    {
     "data": {
      "text/plain": [
       "8.4"
      ]
     },
     "execution_count": 6,
     "metadata": {},
     "output_type": "execute_result"
    }
   ],
   "source": [
    "14*0.6"
   ]
  },
  {
   "cell_type": "code",
   "execution_count": 5,
   "id": "fb1d65c6-671f-4209-8a0a-096be7351046",
   "metadata": {},
   "outputs": [
    {
     "data": {
      "text/plain": [
       "0.1111111111111111"
      ]
     },
     "execution_count": 5,
     "metadata": {},
     "output_type": "execute_result"
    }
   ],
   "source": [
    "1/9"
   ]
  },
  {
   "cell_type": "markdown",
   "id": "cceeeb4f-0fc8-4de6-ac74-c1dd8d2b7cf9",
   "metadata": {},
   "source": [
    "También puede combinar operaciones de forma correcta. Python respeta el uso de paréntesis y el orden estándar en que las operaciones deben evaluarse a nivel matemático. Por ejemplo: "
   ]
  },
  {
   "cell_type": "code",
   "execution_count": 2,
   "id": "f9e70f5d-9c3b-431e-a460-ce5f2de1a7b2",
   "metadata": {
    "colab": {
     "base_uri": "https://localhost:8080/"
    },
    "id": "1vExrAZB2ENN",
    "outputId": "966638f2-2ce0-4305-8144-1371a1cfb130"
   },
   "outputs": [
    {
     "data": {
      "text/plain": [
       "9.0"
      ]
     },
     "execution_count": 2,
     "metadata": {},
     "output_type": "execute_result"
    }
   ],
   "source": [
    "3*(6/3 + 1)"
   ]
  },
  {
   "cell_type": "markdown",
   "id": "d0f32880-c4f4-48cb-b50c-22892d67cf57",
   "metadata": {},
   "source": [
    "Es decir, Python es capar de evaluar correctamente todos esos ejemplos de memes que circulan por las redes sociales tratando de desafiar a las personas mezclando operaciones matemáticas elementales que deben ser evaluadas siguiendo el orden establecido por las reglas matemáticas. ¡Compruébalo! Aquí está el clásico \"desafío\" que hasta se ganó [una nota en un portal de noticias]([https://tn.com.ar/tecno/juegos/2024/11/29/cuanto-es-100-10-5-x-2-50-el-desafio-matematico-solo-para-genios/):"
   ]
  },
  {
   "cell_type": "code",
   "execution_count": 9,
   "id": "f84dca7c-1cf5-489d-9ec0-276ade835a76",
   "metadata": {},
   "outputs": [
    {
     "data": {
      "text/plain": [
       "154.0"
      ]
     },
     "execution_count": 9,
     "metadata": {},
     "output_type": "execute_result"
    }
   ],
   "source": [
    "100+10/5*2+50"
   ]
  },
  {
   "cell_type": "markdown",
   "id": "fe13c962-bdfd-4965-a78b-bb0111434b6e",
   "metadata": {},
   "source": [
    "**Ejercicio**: A continuación tienes algunas celdas de código donde debes crear tres ejemplos _creativos_ que utilicen y/o combinen operaciones matemáticas simples y paréntesis que tú puedas calcular manualmente. ¡Comprueba que el resultado es correcto!"
   ]
  },
  {
   "cell_type": "code",
   "execution_count": null,
   "id": "8d85a48f-becd-4dac-90c8-c4b5a9d5c62b",
   "metadata": {},
   "outputs": [],
   "source": []
  },
  {
   "cell_type": "code",
   "execution_count": null,
   "id": "a5c26dcc-66bb-4794-8a33-76e9b01d7c41",
   "metadata": {},
   "outputs": [],
   "source": []
  },
  {
   "cell_type": "code",
   "execution_count": null,
   "id": "b3c343dc-480b-4e00-b8d1-7c1dfdb52803",
   "metadata": {},
   "outputs": [],
   "source": []
  },
  {
   "cell_type": "markdown",
   "id": "513e906a-20a3-49bd-9713-d9d17fc9952b",
   "metadata": {},
   "source": [
    "Python también **puede realizar cálculos más complejos**, por ejemplo, usando potencias (`**`), raíces y una infinidad de cálculos más avanzados (hasta matemáticas de niveles universitarios...). Lo mejor de todo es que Python evalúa las expresiones en tiempo real, mostrando el resultado de inmediato, lo que lo convierte en una herramienta ideal para explorar y probar cálculos rápidamente. \n",
    "\n",
    "Acá hay algunos ejemplo con potencias. ¿Podrías calcular los resultados a mano antes de ejecutar las celdas? Si no, ¡no importa! Python te dará igualmente el resultado correcto:"
   ]
  },
  {
   "cell_type": "code",
   "execution_count": null,
   "id": "fa7dbd90-8285-49bf-b51f-111fb1eed38a",
   "metadata": {},
   "outputs": [],
   "source": [
    "4**2"
   ]
  },
  {
   "cell_type": "code",
   "execution_count": null,
   "id": "8b37ae9d-9d05-4348-b247-fc72891b4980",
   "metadata": {},
   "outputs": [],
   "source": [
    "2**4"
   ]
  },
  {
   "cell_type": "code",
   "execution_count": null,
   "id": "90d77e4c-1828-42c1-904e-c754ef0773a9",
   "metadata": {},
   "outputs": [],
   "source": [
    "2**3 + 3**2 "
   ]
  },
  {
   "cell_type": "markdown",
   "id": "edbc3b5d-cab2-42fb-bb67-8478d3a6b359",
   "metadata": {},
   "source": [
    "Ahora algo un poco más desafiante para el cálculo manual (desafío digno de meme, pero más interesante que el anterior)..."
   ]
  },
  {
   "cell_type": "code",
   "execution_count": 10,
   "id": "03e894a2-88b1-4047-9e11-960bd7666626",
   "metadata": {
    "colab": {
     "base_uri": "https://localhost:8080/"
    },
    "id": "qLQN25FB3oxV",
    "outputId": "767430ea-30fe-45ba-d59b-61ec10ec4ba3"
   },
   "outputs": [
    {
     "data": {
      "text/plain": [
       "54.0"
      ]
     },
     "execution_count": 10,
     "metadata": {},
     "output_type": "execute_result"
    }
   ],
   "source": [
    "2*(6/3 + 1)**3"
   ]
  },
  {
   "cell_type": "markdown",
   "id": "8d536962-40be-4c37-afcc-186af956ff27",
   "metadata": {},
   "source": [
    "Si te gustan las matemáticas, te habrás dado cuenta que hasta ahora hemos visto ejemplos que son posibles de resolver a mano (o incluso mentalmente). No obstante, Python nos ofrece la posibilidad de calcular cosas que mentalmente serían un lío... Pensemos en el ejemplo anterior, pero ahora suponiendo que necesitamos que el exponente de la potencia sea un número monstruosamente grande (e elegido 456 por azar). ¿Qué resultado te daría el intérprete de esta operación?"
   ]
  },
  {
   "cell_type": "code",
   "execution_count": 11,
   "id": "6a158947-6ff7-49ff-a47d-aba34a334b60",
   "metadata": {
    "colab": {
     "base_uri": "https://localhost:8080/"
    },
    "id": "zhTGyJ4wusxH",
    "outputId": "b6a83960-c085-4f25-b12d-0acb08b50924"
   },
   "outputs": [
    {
     "data": {
      "text/plain": [
       "7.384517904671098e+217"
      ]
     },
     "execution_count": 11,
     "metadata": {},
     "output_type": "execute_result"
    }
   ],
   "source": [
    "2*(6/3 + 1)**456"
   ]
  },
  {
   "cell_type": "markdown",
   "id": "32d72d19-48f0-498c-9aa5-843200d4c3db",
   "metadata": {},
   "source": [
    "¡Y violà! Python te entregó la respueta con la misma rapidez y confianza que con los ejemplos simples. ¡El resultado es número que tiene 218 cifras! El cual lamentablemente no se puede \"mostrar\" completo por las limitaciones tecnológicas de este tipo de operaciones. En cambio, acá se utiliza la famosa _notación científica_ para representarlo, en la cual se muestran las primeras cifras del número, y se agrupan todas las otras utilizando una potencia de 10. Esto último es indicado con la letra `e` (tanto mayúscula como minúscula) en este lenguaje. Es decir, el número anterior se podría escribir como $7,384 \\times 10^{217}$.\n",
    "\n",
    "En general, se puede utilizar esta `e` para escribir números extremadamente grandes (o pequeños) utilizando esta notación científica. ¡Python no tendrá problemas en operar con ellos tal como lo hace con los otros!, aunque considerando algunas caractarísticas distintas que estudiaremos más adelante. ¿Te quedan dudas de cómo funciona esta forma de escribir números grandes? Observa este ejemplo que simplemente escribe el número _un millón_ utilizándola:"
   ]
  },
  {
   "cell_type": "code",
   "execution_count": 14,
   "id": "2b98848b-cbf3-44e3-b27f-07b67631b626",
   "metadata": {},
   "outputs": [
    {
     "data": {
      "text/plain": [
       "1000000.0"
      ]
     },
     "execution_count": 14,
     "metadata": {},
     "output_type": "execute_result"
    }
   ],
   "source": [
    "1e6"
   ]
  },
  {
   "cell_type": "markdown",
   "id": "5bae985b-7a91-4439-8f89-6d34724069b9",
   "metadata": {},
   "source": [
    "O algo más entretenido, el número aproximado de estrellas que hay en nuestra galaxia:"
   ]
  },
  {
   "cell_type": "code",
   "execution_count": 15,
   "id": "c3cb1037-405c-4d19-95c1-a5cacc29f7ef",
   "metadata": {},
   "outputs": [
    {
     "data": {
      "text/plain": [
       "10000000000.0"
      ]
     },
     "execution_count": 15,
     "metadata": {},
     "output_type": "execute_result"
    }
   ],
   "source": [
    "1e10"
   ]
  },
  {
   "cell_type": "markdown",
   "id": "140bdec5-f789-41d6-9ce5-869b1c0a3e64",
   "metadata": {},
   "source": [
    "Para el caso de los números muy chiquitos podemos usar la misma notación. Por ejemplo, consideremos el ancho de un cabello humano, aproximadamente 0.04 milímetros (mm). Para escribir este valor en metros, tenemos que dividirlo por 1000, la cantidad de milímetros que hay en un metro. Esto sería:"
   ]
  },
  {
   "cell_type": "code",
   "execution_count": 6,
   "id": "de012d72-6986-482d-b9fc-bf8cd17373bc",
   "metadata": {},
   "outputs": [
    {
     "data": {
      "text/plain": [
       "4e-05"
      ]
     },
     "execution_count": 6,
     "metadata": {},
     "output_type": "execute_result"
    }
   ],
   "source": [
    "0.04/1000"
   ]
  },
  {
   "cell_type": "markdown",
   "id": "26105902-2a3a-456e-99b4-5e014f9f56db",
   "metadata": {},
   "source": [
    "Este resultado, $4\\text{e-}05$, es equivalente a escribir $4 \\times 10^{-5}$, que es la notación científica para el número $0.00004$.\n",
    "\n",
    "¡Pero esto no es todo! Python también incluye algunas operaciones _interesantes_, que no las solemos aplicar en nuestra matemática académica, pero si bastante en la vida cotidiana. Por ejemplo, tiene una forma de calcular el **resto de la división**, un valor muy trascendente cuando realizamos una dividisión manualmente, y que tiene una variedad de aplicaciones dentro de la programación:"
   ]
  },
  {
   "cell_type": "code",
   "execution_count": 7,
   "id": "9d7bb550-289d-4e60-b7eb-aa8a9b28b167",
   "metadata": {
    "colab": {
     "base_uri": "https://localhost:8080/"
    },
    "id": "BqmYUcVZ2OEL",
    "outputId": "c45e0365-87c7-4d68-8544-b6e4c0614e9f"
   },
   "outputs": [
    {
     "data": {
      "text/plain": [
       "2"
      ]
     },
     "execution_count": 7,
     "metadata": {},
     "output_type": "execute_result"
    }
   ],
   "source": [
    "6%4"
   ]
  },
  {
   "cell_type": "markdown",
   "id": "87d7b701-1e15-4c0e-a7ed-ae1fcd13429b",
   "metadata": {},
   "source": [
    "## 2.2 Celdas con múltples instrucciones\n",
    "\n",
    "Hasta ahora hemos utilizado las celdas de código de una forma sencilla: con una única instrucción en Python que nos ha permitido ejecutar operaciones simples y obtener resultados de inmediato. Sin embargo, los _notebooks_ nos permiten incluir **múltiples instrucciones en una sola celda**, lo que nos da la posibilidad de agrupar cálculos, definir elementos y estructurar mejor nuestro código. ¡Incluso podemos escribir programas completos en una sola celda!\n",
    "\n",
    "Quizás ya te preguntaste al respecto de esto cuando te encontraste con el código de despedida al final del notebook introductorio. ¿Lo recuerdas? Era algo similar a lo siguiente: "
   ]
  },
  {
   "cell_type": "code",
   "execution_count": 11,
   "id": "d3532317-2d09-4179-8ff8-c16e97746fbd",
   "metadata": {},
   "outputs": [
    {
     "name": "stdout",
     "output_type": "stream",
     "text": [
      "Espero que te haya gustado la introducción!\n"
     ]
    }
   ],
   "source": [
    "msg = \"Espero que te haya gustado la introducción!\"\n",
    "print(msg)"
   ]
  },
  {
   "cell_type": "markdown",
   "id": "838da491-46ec-42f3-a668-1ad05cf97e8c",
   "metadata": {},
   "source": [
    "La anterior es, justamente, una celda de código que contiene múltiples instrucciones. Acá llegamos a una de las características del funcionamiento de Python que deberás tener siempre en mente: **el intérprete de Python considera que cada línea es una instrucción única a menos que se le indique lo contrario**. De este modo, la celda anterior contiene dos instrucciones distintas: una que almacena un mensaje, y otra que lo muestra como resultado de la ejecución.  \n",
    "\n",
    "Entonces, cuando ejecutamos una celda que contiene varias instrucciones, Python **lee y ejecuta cada línea de forma independiente, de arriba hacia abajo, en orden**, tal como si estuviera siguiendo una lista de pasos. Cada operación se procesa en secuencia antes de pasar a la siguiente, lo que nos permite realizar cálculos intermedios, almacenar resultados y hacer que diferentes partes del código interactúen entre sí.\n",
    "\n",
    "### Comentarios\n",
    "\n",
    "Debido a la característica anteriormente descrita, surge la necesidad de poder agregar explicaciones o aclaraciones en texto **entre las instrucciones de una misma celda** para hacer más comprensible el código desarrollado o simplemente mejorar la claridad de lo programado. Para ello, en Python se utiliza el símbolo `#` para indicar que todo el contenido de una instrucción, a partir de ese símbolo, no debe ser ejecutado, dado que corresponde a un **comentario para humanos** que la máquina debe ignorar en su procesamiento. Por ejemplo, podemos utilizar _comentarios_ para clarificar nuestro código anterior: "
   ]
  },
  {
   "cell_type": "code",
   "execution_count": 16,
   "id": "33404ed6-797c-4ce7-b34a-1f16b633469c",
   "metadata": {},
   "outputs": [
    {
     "name": "stdout",
     "output_type": "stream",
     "text": [
      "Espero que te haya gustado la introducción!\n"
     ]
    }
   ],
   "source": [
    "# Esta línea es un comentario ignorado por el intérprete \n",
    "\n",
    "# La siguiente es la primera instrucción de la celda:\n",
    "msg = \"Espero que te haya gustado la introducción!\"\n",
    "\n",
    "# y esta es la segunda instrucción:\n",
    "print(msg)"
   ]
  },
  {
   "cell_type": "markdown",
   "id": "59ad46df-3373-41da-8b1c-cc77fe738f46",
   "metadata": {},
   "source": [
    "Estos comentarios incluso se pueden utilizar luego de las instrucciones de una misma línea:"
   ]
  },
  {
   "cell_type": "code",
   "execution_count": 1,
   "id": "b5e86d87-fb06-4bcc-a594-b5b6905153f6",
   "metadata": {},
   "outputs": [
    {
     "data": {
      "text/plain": [
       "8544"
      ]
     },
     "execution_count": 1,
     "metadata": {},
     "output_type": "execute_result"
    }
   ],
   "source": [
    "356*24   # la cantidad de horas en un año:"
   ]
  },
  {
   "cell_type": "markdown",
   "id": "de4aba3c-9635-4ae6-805f-1cdbfec129f0",
   "metadata": {},
   "source": [
    "Como recomendación general, incluir **comentarios explicativos** es una muy buena práctica al programar. Es decir, es importante tomarse el tiempo de incluir anotaciones en comentarios que expliquen qué hace cada parte del programa. Los comentarios no afectan la ejecución del código, pero son fundamentales para hacerlo más claro y comprensible. Agregar explicaciones breves sobre cálculos, decisiones o estructuras complejas **te ahorrará mucho tiempo cuando necesites revisar tus desarrollos en el futuro**. También facilita que otras personas puedan entender y reutilizar tú código sin necesidad de tener que analizar cada línea en detalle. Un código bien comentado no solo es más fácil de leer, sino que también ayuda a detectar errores y mantener un flujo de trabajo organizado.\n",
    "\n",
    "#### Resultados de múltiples instrucciones\n",
    "\n",
    "Es importante notar que, por defecto, **el resultado que se muestra al ejecutar una celda con múltiples instrucciones suele ser la salida de la última instrucción escrita**. Revisa el siguiente ejemplo:"
   ]
  },
  {
   "cell_type": "code",
   "execution_count": 17,
   "id": "fc476e3d-bc1e-42f1-88bb-193beb882589",
   "metadata": {
    "colab": {
     "base_uri": "https://localhost:8080/"
    },
    "id": "x_I-xSCB2h0Z",
    "outputId": "50c6f8a5-e8d0-4208-cb07-0ec96372c385"
   },
   "outputs": [
    {
     "data": {
      "text/plain": [
       "48"
      ]
     },
     "execution_count": 17,
     "metadata": {},
     "output_type": "execute_result"
    }
   ],
   "source": [
    "# ¿El resuldato de cuál de estas operaciones se muestra? \n",
    "4+5\n",
    "6*8"
   ]
  },
  {
   "cell_type": "markdown",
   "id": "77a0e6f3-f21e-4152-a0f8-20dac906c583",
   "metadata": {},
   "source": [
    "Si tienes dudas, puedes probar _comentando_ la última línea de la celda anterior para verificar que Python está igualmente realizando el cálculo, aunque no esté mostrando su resultado en pantalla. \n",
    "\n",
    "Por el contrario, si necesitamos mostrar otros valores intermedios dentro de la misma celda (sin tener que _comentar_ las líneas siguientes), debemos usar la _función_ `print()`. Como ya pudiste ver en el notebook anterior, esta instrucción nos permite mostrar explícitamente cualquier información en cualquier punto del código. Esto es especialmente útil cuando queremos revisar los pasos de un cálculo o analizar el comportamiento del programa. \n",
    "\n",
    "La función `print()` muestra en pantalla el elemento que incluyas entre sus paréntesis. Ya hemos visto que para mostrar un texto cualquiera con esta función es necesario encerrarlo con comillas. En el caso de resultados de operaciones, podemos usar igualmente `print()` agregando la operación (o su resultado) dentro de los paréntesis. Por ejemplo:"
   ]
  },
  {
   "cell_type": "code",
   "execution_count": 24,
   "id": "613bcef2-c74f-4c8c-a212-9349084d0471",
   "metadata": {},
   "outputs": [
    {
     "name": "stdout",
     "output_type": "stream",
     "text": [
      "Este es el resultado de 2+2:\n",
      "4\n",
      "Listo!\n"
     ]
    }
   ],
   "source": [
    "# Estas tres instrucciones se mostrarán:\n",
    "print(\"Este es el resultado de 2+2:\")\n",
    "print(2+2)\n",
    "print(\"Listo!\")"
   ]
  },
  {
   "cell_type": "markdown",
   "id": "72fe5ce1-3ab7-4cd7-852d-a7c74789d159",
   "metadata": {},
   "source": [
    "**EJERCICIO:** A continuación, tienes una celda con múltiples instrucciones incluyendo operaciones matemáticas para que la modifiques a tu gusto: comenta la(s) línea(s) de tu elección, agrega comentarios nuevos o agrega/elimina instrucciones `print()` para que practiques lo estudiado hasta ahora. ¡Ejecútala luego de cada cambio para comprobar qué resultado se muestra al final! ¿Puedes conseguir que se muestre el resultado de la operación $2^3$ sin eliminar los mensajes posteriores?"
   ]
  },
  {
   "cell_type": "code",
   "execution_count": 21,
   "id": "87470530-8e8f-4b8a-a836-ec1a968eb0ae",
   "metadata": {},
   "outputs": [
    {
     "name": "stdout",
     "output_type": "stream",
     "text": [
      "Este es un mensaje en medio de la ejecución.\n"
     ]
    },
    {
     "data": {
      "text/plain": [
       "10"
      ]
     },
     "execution_count": 21,
     "metadata": {},
     "output_type": "execute_result"
    }
   ],
   "source": [
    "# recuerda que puedes gregar todos los comentarios que quieras!\n",
    "2**3\n",
    "\n",
    "# mostremos un mensaje:\n",
    "print(\"Este es un mensaje en medio de la ejecución.\")\n",
    "\n",
    "4+5\n",
    "\n",
    "5*2"
   ]
  },
  {
   "cell_type": "markdown",
   "id": "534e7b54-6b03-45eb-9e6d-fcebf8325e0e",
   "metadata": {
    "id": "StGq0Bbq5GWX"
   },
   "source": [
    "## 2.3 Creando Elementos\n",
    "\n",
    "Hasta ahora, hemos usado Python para realizar cálculos y ejecutar instrucciones individuales. Pero en programación, no siempre queremos trabajar con valores sueltos, sino que necesitamos **crear y gestionar información dentro del programa**. A continuación, daremos un paso más y aprenderemos a definir nuestros propios elementos digitales para luego utilizarlos en distintas operaciones. Iniciaremos con los elementos más sencillos: números y texto, pero lo que aprendas acá se aplicará a todos los elementos complejos que veremos más adelante. A medida que avancemos, veremos cómo Python reconoce y clasifica lo que creamos, y descubriremos detalles clave sobre cómo estos elementos existen y son gestionados dentro del programa. A partir de ahora, utilizaremos el término **objeto** para referirnos a los elementos digitales que existen dentro de un programa. Indagaremos bastante sobre este concepto mientras vayamos avanzando en este tutorial.\n",
    "\n",
    "### 2.3.1 Objetos numéricos: enteros y flotantes\n",
    "\n",
    "En Python, podemos **crear objetos numéricos** de manera sencilla utilizando el símbolo `=`. Este símbolo es un _operador_ que nos permite indicarle al intérprete que le **asigne un valor a un nombre** que nos permitirá poder usar ese valor más adelante. Veamos un ejemplo:"
   ]
  },
  {
   "cell_type": "code",
   "execution_count": 2,
   "id": "dec90ed1-2f3c-42a0-b059-c7248185ccc0",
   "metadata": {
    "id": "SnU62rRR41Bv"
   },
   "outputs": [],
   "source": [
    "# Acá tenemos dos definiciones\n",
    "a = 2\n",
    "b = 3.1415"
   ]
  },
  {
   "cell_type": "markdown",
   "id": "f51d366c-fe1e-490e-9de5-331d27ab7e69",
   "metadata": {},
   "source": [
    "Al ejecutar la celda anterior, el intérprete creará ambos objetos (2 y 3.1415) y registrará sus nombres (a, b) de forma persistente hasta que sean eliminados manualmente o el kernel se reinicie. Estos nombres, los cuales llamaremos **referencias**, se pueden utilizar para acceder y operar con los objetos creados. Por ejemplo, acá podrás ver el resultado de algunas operaciones:"
   ]
  },
  {
   "cell_type": "code",
   "execution_count": 8,
   "id": "604c7c28-64ba-4f2c-a335-be69dc07736b",
   "metadata": {},
   "outputs": [
    {
     "data": {
      "text/plain": [
       "5.141500000000001"
      ]
     },
     "execution_count": 8,
     "metadata": {},
     "output_type": "execute_result"
    }
   ],
   "source": [
    "a+b"
   ]
  },
  {
   "cell_type": "code",
   "execution_count": 9,
   "id": "94b0125f-651b-434a-b694-604932f831b0",
   "metadata": {
    "colab": {
     "base_uri": "https://localhost:8080/"
    },
    "id": "30ycIgPE5Y19",
    "outputId": "754930e4-8ebb-4aab-afb8-b5bbe1d0f3c7"
   },
   "outputs": [
    {
     "data": {
      "text/plain": [
       "6.283"
      ]
     },
     "execution_count": 9,
     "metadata": {},
     "output_type": "execute_result"
    }
   ],
   "source": [
    "a*b"
   ]
  },
  {
   "cell_type": "code",
   "execution_count": 10,
   "id": "45d6dc89-7f08-454f-9fa8-68ef79fa06dd",
   "metadata": {
    "colab": {
     "base_uri": "https://localhost:8080/"
    },
    "id": "ob3t4n826Ulz",
    "outputId": "8f129915-7edf-4f0a-c426-eb24e148a5c8"
   },
   "outputs": [
    {
     "data": {
      "text/plain": [
       "8.824411082479122"
      ]
     },
     "execution_count": 10,
     "metadata": {},
     "output_type": "execute_result"
    }
   ],
   "source": [
    "a**b"
   ]
  },
  {
   "cell_type": "markdown",
   "id": "26ef59a3-efde-4890-93b8-c0c0a18f2d23",
   "metadata": {},
   "source": [
    "La creación de objetos y sus referencias con el `=` también admite el uso de otras referencias a objetos anteriomente. Por ejemplo: "
   ]
  },
  {
   "cell_type": "code",
   "execution_count": 11,
   "id": "acbf51c3-40b9-4ce2-9286-66205a99b580",
   "metadata": {},
   "outputs": [
    {
     "name": "stdout",
     "output_type": "stream",
     "text": [
      "6.283\n"
     ]
    }
   ],
   "source": [
    "c = a*b\n",
    "print(c)"
   ]
  },
  {
   "cell_type": "markdown",
   "id": "20da0298-5b88-4793-96c2-93fbe50980ed",
   "metadata": {},
   "source": [
    "**EJERCICIO**: Combina lo que hemos estudiado hasta ahora creando una secuencia de instrucciones que: definan algunos objetos numéricos, realicen operaciones matemáticas entre ellos, almacenen resultados en nuevos objetos y muestren varios mensajes de los resultados parciales de tu código. Crea, al menos, 5 líneas de Python (que no sean comentarios) que implementen estas acciones."
   ]
  },
  {
   "cell_type": "code",
   "execution_count": null,
   "id": "3182551e-c382-46d6-9196-5cb3e92dd639",
   "metadata": {},
   "outputs": [],
   "source": [
    "# Completa el ejercicio en esta celda\n",
    "\n",
    "\n"
   ]
  },
  {
   "cell_type": "markdown",
   "id": "758aab56-57c8-4485-b53c-a176235f96c4",
   "metadata": {
    "id": "B9KZiKfwvZ6-"
   },
   "source": [
    "Entonces, resumiendo lo anterior, cuando programamos: \n",
    "\n",
    "> a = 2\n",
    "\n",
    "no le estamos indicando al intérprete que \"guarde\" el número 2 dentro de `a`. En realidad, Python crea el número 2 **como un objeto independiente**, y luego le asigna **una referencia** (`a`) que nos permite realizar operaciones con él.\n",
    "\n",
    "Esto significa que la referencia y el objeto son **dos cosas distintas**: la referencia es simplemente un \"etiqueta\" que apunta a un valor representado digitalmente en alguna parte de la memoria de la computadora. Este concepto es clave para entender cómo Python maneja los datos y cómo podemos manipularlos de manera eficiente.\n"
   ]
  },
  {
   "cell_type": "markdown",
   "id": "ceb15252-d3b4-4106-a29a-5f368037f9b3",
   "metadata": {
    "id": "fTTZvH9J6aqR"
   },
   "source": [
    "#### Tipos de los objetos\n",
    "\n",
    "Una característica importante de los objetos en Python es que todos tienen asociado un **tipo** que define qué tipo de información representa el elemento digital y qué operaciones podemos realizar con él. Por ejemplo, los números enteros (`int`) y los números decimales o de punto flotante (`float`) son dos tipos distintos, aunque ambos representen valores numéricos. Si bien a primera vista parece _innecesario_ tener dos (o más) tipos para tratar con los números, es importante que consideres que las operaciones internas que realiza la computadora para poder hacer los cálculos son distintas dependiendo del tipo de objeto numérico con que esté trabajando. Si bien esta característica ha sido una limitación importante a lo largo de la historia de la programación, felizmenete Python puede sobrellevarla sin mayor intervención por nuestra parte, de modo que no indagaremos en ello por ahora mientras estemos estudiando lo básico del lenguaje, sino que nos centraremos en identificar todos los tipos de los objetos que utilicemos.\n",
    "\n",
    "Para averiguar a qué tipo pertenece un objeto particular, se utiliza la función `type()` que nos entregará esta información de manera sencilla. Comprobemos los tipos de los objetos definidos con anterioridad:"
   ]
  },
  {
   "cell_type": "code",
   "execution_count": 20,
   "id": "d4b7320c-0908-48bf-af7d-c0781479adfd",
   "metadata": {},
   "outputs": [
    {
     "data": {
      "text/plain": [
       "int"
      ]
     },
     "execution_count": 20,
     "metadata": {},
     "output_type": "execute_result"
    }
   ],
   "source": [
    "# a = 2\n",
    "type(a)"
   ]
  },
  {
   "cell_type": "code",
   "execution_count": 18,
   "id": "d9ef0193-fc4a-4d22-bfc8-031d2fff5e5a",
   "metadata": {},
   "outputs": [
    {
     "data": {
      "text/plain": [
       "float"
      ]
     },
     "execution_count": 18,
     "metadata": {},
     "output_type": "execute_result"
    }
   ],
   "source": [
    "# b= 3.1415\n",
    "type(b)"
   ]
  },
  {
   "cell_type": "markdown",
   "id": "02eda3b9-9e1f-4e21-aa28-e50045aeb5e6",
   "metadata": {},
   "source": [
    "Vemos que, utilizando sus referencias, es posible consultar los tipos de nuestros objetos creados, los cuales efectivamente corresponden a clases distintas.\n",
    "\n",
    "Python es conocido por ser un lenguaje _con orientación a objetos_, es decir, utiliza los objetos como herramienta principal para funcionar. Para que veamos esto en acción, podemos preguntar el tipo de un objeto \"sin referencia\" como el simple número 7:"
   ]
  },
  {
   "cell_type": "code",
   "execution_count": 19,
   "id": "fa2f187c-2398-41fa-9896-d177e85ab6c0",
   "metadata": {
    "colab": {
     "base_uri": "https://localhost:8080/"
    },
    "id": "pqV3dnqb6UoC",
    "outputId": "fa721c7b-8583-4147-f742-80f176f97811"
   },
   "outputs": [
    {
     "data": {
      "text/plain": [
       "int"
      ]
     },
     "execution_count": 19,
     "metadata": {},
     "output_type": "execute_result"
    }
   ],
   "source": [
    "type(7)"
   ]
  },
  {
   "cell_type": "markdown",
   "id": "b9e727ff-ac08-4dda-9cca-1d0145f9fa9a",
   "metadata": {},
   "source": [
    "Vemos que Python reconoció el tipo del objeto que representa el número $7$ a pesar que no le asignamos ninguna referencia. Es decir, **Python siempre creará los objetos que necesite para poder ejecutar las instrucciones que hayas programado**, incluso aunque estos no se sigan utilizando luego (es decir, no se les asignó referencia).\n",
    "\n",
    "En adelante, utilizaremos `type` para conocer la clase de los objetos de tipo nuevo que vayamos estudiando. Ten en cuenta que cada vez que sepas realmente qué tipo de objeto está asignado a una referencia, puedes utilizar esta misma función para determinarlo."
   ]
  },
  {
   "cell_type": "markdown",
   "id": "a2b2c0f0-3444-496b-9827-d3b3157ccffd",
   "metadata": {
    "id": "2Nq49JfRfWlR"
   },
   "source": [
    "### 2.3.2 Cadenas de caracteres (**strings**)\n",
    "\n",
    "Como ya lo hemos visto en algunos ejemplos anteriores, Python también permite definir objetos que contienen _secuencias de caracteres alfanuméricos_ que nos permiten almacenar textos. Estos objetos son conocidos como cadenas o **strings**, y su tipo es `str`. Las strings permiten almacenar texto de largo arbitrario en estas secuencias de caracteres, y una vez definidos ¡podemos crear instrucciones para realizar operaciones con ellas tal como con los objetos numéricos!\n",
    "\n",
    "Para definir una string se utiliza una notación especial que le indica al intérprete donde comienza y termina el \"texto\" que la compone, para así diferenciarlo del resto de las instrucciones programadas: el texto de la string debe encerrarse entre comillas dobles `\" \"` o simples `' '`. De este modo, de forma análoga a los objetos numéricos, podemos definir una string de la forma:"
   ]
  },
  {
   "cell_type": "code",
   "execution_count": null,
   "id": "35e2cca5-5d86-472f-a38a-8aa9880e2abc",
   "metadata": {
    "id": "3KjrQLqMakT3"
   },
   "outputs": [],
   "source": [
    "s1 = \"Hola\""
   ]
  },
  {
   "cell_type": "markdown",
   "id": "aebd0ece-c3e7-4252-b895-a378d0dfdb9a",
   "metadata": {},
   "source": [
    "Verifiquemos el tipo de este objeto con la función `type()`:"
   ]
  },
  {
   "cell_type": "code",
   "execution_count": null,
   "id": "8fd08fee-c58b-48a9-894b-9ad73e131c96",
   "metadata": {
    "colab": {
     "base_uri": "https://localhost:8080/"
    },
    "id": "2pTEiJURh4qQ",
    "outputId": "077d6ca7-e0a1-4a7e-c083-e73715c5a6d5"
   },
   "outputs": [
    {
     "data": {
      "text/plain": [
       "str"
      ]
     },
     "execution_count": 26,
     "metadata": {},
     "output_type": "execute_result"
    }
   ],
   "source": [
    "# Tipo del objeto que referencia s1:\n",
    "type(s1)"
   ]
  },
  {
   "cell_type": "markdown",
   "id": "b55747b0-df02-4476-8c27-b07d60ba1292",
   "metadata": {
    "id": "B1XCK_46iA6e"
   },
   "source": [
    "#### Representación de cadenas de texto\n",
    "\n",
    "En este punto debemos clarificar el uso de la función `print()`, que hasta ahora hemos utilizado instintivamente.\n",
    "\n",
    "La función `print()` en Python nos permite **mostrar información en un formato legible para humanos**, pero es importante notar que el texto que genera puede verse diferente al resultado que aparece automáticamente cuando ejecutamos una celda. Esto ocurre porque `print()` convierte los valores a una representación de texto más amigable, eliminando detalles técnicos que Python muestra cuando devuelve directamente un objeto.\n",
    "\n",
    "Por ejemplo, al ejecutar una celda con un string, Python muestra su representación formal, incluyendo las comillas que lo delimitan:"
   ]
  },
  {
   "cell_type": "code",
   "execution_count": 21,
   "id": "c33beb7b-1270-47e4-86fb-49e29f4190d1",
   "metadata": {},
   "outputs": [
    {
     "data": {
      "text/plain": [
       "'Texto de ejemplo'"
      ]
     },
     "execution_count": 21,
     "metadata": {},
     "output_type": "execute_result"
    }
   ],
   "source": [
    "s2 = \"Texto de ejemplo\"\n",
    "\n",
    "s2"
   ]
  },
  {
   "cell_type": "markdown",
   "id": "7cb269a7-afd5-4bbc-b231-7e469c55c68a",
   "metadata": {},
   "source": [
    "En cambio, si usamos `print()`, veremos solo el contenido del texto sin las comillas adicionales:"
   ]
  },
  {
   "cell_type": "code",
   "execution_count": 22,
   "id": "d172754b-d791-476c-9567-2357f83e4ae9",
   "metadata": {},
   "outputs": [
    {
     "name": "stdout",
     "output_type": "stream",
     "text": [
      "Texto de ejemplo\n"
     ]
    }
   ],
   "source": [
    "print(s2)"
   ]
  },
  {
   "cell_type": "markdown",
   "id": "2f83da68-20e3-4ab9-87a6-f912d8e02873",
   "metadata": {},
   "source": [
    "Esto adquiere mayor importancia cuando consideramos texto que contiene caracteres que representan alguna característica del formato del mismo, por ejemplo, el caracter popular _salto de línea_: `\\n`."
   ]
  },
  {
   "cell_type": "code",
   "execution_count": 24,
   "id": "06eb0ae7-df4a-4e2e-945a-bfb6427b550a",
   "metadata": {
    "id": "nSSLOaxuiu2H"
   },
   "outputs": [],
   "source": [
    "# Definimos una string con el caracter especial de salto de linea:\n",
    "s3 = \"una linea \\n otra linea\""
   ]
  },
  {
   "cell_type": "code",
   "execution_count": 25,
   "id": "aa9d9e94-c524-4ddd-b44a-42fe50808ead",
   "metadata": {},
   "outputs": [
    {
     "data": {
      "text/plain": [
       "'una linea \\n otra linea'"
      ]
     },
     "execution_count": 25,
     "metadata": {},
     "output_type": "execute_result"
    }
   ],
   "source": [
    "# Su representación automática:\n",
    "s3"
   ]
  },
  {
   "cell_type": "code",
   "execution_count": 27,
   "id": "23ab32c3-2f84-4592-8980-39eee8b9f080",
   "metadata": {
    "colab": {
     "base_uri": "https://localhost:8080/"
    },
    "id": "X8QLqo6pi3Zk",
    "outputId": "86f6453e-199d-47e3-93f0-5e5726ed7c42"
   },
   "outputs": [
    {
     "name": "stdout",
     "output_type": "stream",
     "text": [
      "una linea \n",
      " otra linea\n"
     ]
    }
   ],
   "source": [
    "# Su representación en texto real (para humanos):\n",
    "print(s3)"
   ]
  },
  {
   "cell_type": "markdown",
   "id": "059e2109-d3f9-4953-aa56-9ebfe42390b6",
   "metadata": {},
   "source": [
    "Esta diferencia se debe a que, cuando una celda ejecuta una última instrucción sin `print()`, Python muestra la **representación interna** del objeto, útil para analizar y corregir un código en desarrollo. En cambio, `print()` genera una salida más limpia y fácil de leer, pensada para interactuar con el usuario.\n",
    "\n",
    "**CONCLUSIÓN**  \n",
    "Puedes utilizar la representación automática de las celdas de texto para mostrar valores de objetos mientras estés desarrollando tus programas. ¡Es una forma fácil y rápida de verificar que tus instrucciones están correctas!. En cambio, cuando necesites mostrar valores **como parte del funcionamiento final** de tu programa o conjunto de instrucciones, **siempre prefiere utilizar `print()`**. Esta última función es el estándar para mostrar información en un programa en Python. "
   ]
  },
  {
   "cell_type": "markdown",
   "id": "2db225c8-c7b0-4186-823e-5756ca943ae9",
   "metadata": {
    "id": "T4JeUwoSfWcC"
   },
   "source": [
    "#### Operaciones con strings\n",
    "\n",
    "Las strings se pueden combinar ya sea en una misma instrucción o utilizando sus referencias:"
   ]
  },
  {
   "cell_type": "code",
   "execution_count": null,
   "id": "71b46dc6-b300-42f3-bfb8-34ae4cd60e0e",
   "metadata": {
    "colab": {
     "base_uri": "https://localhost:8080/",
     "height": 35
    },
    "id": "469iCSc6jS-E",
    "outputId": "eb4764f8-d3f2-47ca-d522-0b09e6eb0b3c"
   },
   "outputs": [
    {
     "data": {
      "application/vnd.google.colaboratory.intrinsic+json": {
       "type": "string"
      },
      "text/plain": [
       "'Holamundo'"
      ]
     },
     "execution_count": 32,
     "metadata": {},
     "output_type": "execute_result"
    }
   ],
   "source": [
    "\"Hola\" \"mundo\""
   ]
  },
  {
   "cell_type": "code",
   "execution_count": null,
   "id": "3aabbc1c-c4a8-421d-aa6f-7dc019a54540",
   "metadata": {
    "colab": {
     "base_uri": "https://localhost:8080/",
     "height": 35
    },
    "id": "6ZqDEDkNjkUm",
    "outputId": "509f68cb-cee0-4be7-ae07-d0bd961a9ab4"
   },
   "outputs": [
    {
     "data": {
      "application/vnd.google.colaboratory.intrinsic+json": {
       "type": "string"
      },
      "text/plain": [
       "'Hola mundo'"
      ]
     },
     "execution_count": 37,
     "metadata": {},
     "output_type": "execute_result"
    }
   ],
   "source": [
    "# Las strings se pueden combinar (por sus referencias) con el operador +\n",
    "s3 = \"Hola\"\n",
    "s4 = \" mundo\"\n",
    "s3 + s4"
   ]
  },
  {
   "cell_type": "markdown",
   "id": "8e22ba32-dce4-4e39-87ac-c396079b77d3",
   "metadata": {
    "id": "S4KhyZRykA-1"
   },
   "source": [
    "En general, al aparece un operador (como el +) que requiere realizar alguna operación entre distintos objetos, Python le pregunta a la implementación de los tipos (clases) de esos objetos para saber si puede utilizar este operador entre ellos.\n",
    "\n",
    "En el caso de las strings, estas se puden sumar entre si, lo cual se traduce en una **concatenación**, que no es equivalente a la suma algebraica.\n",
    "\n",
    "Podemos probar otros operadores:"
   ]
  },
  {
   "cell_type": "code",
   "execution_count": null,
   "id": "612570f4-3581-4687-89df-cda2b2ed52e7",
   "metadata": {
    "colab": {
     "base_uri": "https://localhost:8080/",
     "height": 35
    },
    "id": "AWlGBnFfj0s1",
    "outputId": "1e95dd90-04a9-4842-dd47-173a1c37cdf7"
   },
   "outputs": [
    {
     "data": {
      "application/vnd.google.colaboratory.intrinsic+json": {
       "type": "string"
      },
      "text/plain": [
       "'HolaHolaHola'"
      ]
     },
     "execution_count": 39,
     "metadata": {},
     "output_type": "execute_result"
    }
   ],
   "source": [
    "# La multiplicación me concatena múltiples veces una string.\n",
    "3*\"Hola\""
   ]
  },
  {
   "cell_type": "code",
   "execution_count": null,
   "id": "89ede933-6825-469e-95a4-c4e8d71fea59",
   "metadata": {
    "colab": {
     "base_uri": "https://localhost:8080/"
    },
    "id": "OLHa3usplxqf",
    "outputId": "13ea4dee-68b2-4072-c7ef-e4c6fb7a3f32"
   },
   "outputs": [
    {
     "name": "stdout",
     "output_type": "stream",
     "text": [
      "Ven michi michi michi!\n"
     ]
    }
   ],
   "source": [
    "# Se posible combinar estos operadores:\n",
    "s5 = \"Ven\"\n",
    "s6 = \" michi\"\n",
    "print(s5+3*s6+\"!\")"
   ]
  },
  {
   "cell_type": "code",
   "execution_count": null,
   "id": "ad39eb1d-f416-40a2-ad33-dbf53fbf0857",
   "metadata": {
    "colab": {
     "base_uri": "https://localhost:8080/"
    },
    "id": "d72tuvZlmEcL",
    "outputId": "8d208107-0f2d-4fdd-f673-bffb0bc34ef9"
   },
   "outputs": [
    {
     "name": "stdout",
     "output_type": "stream",
     "text": [
      "Ven michi michi michi!\n"
     ]
    }
   ],
   "source": [
    "# El operador *, al igual que en su versión algebraica,\n",
    "# respecta el orden y jerarquía\n",
    "print(s5+s6*3+\"!\")"
   ]
  },
  {
   "cell_type": "markdown",
   "id": "2e9cf81d-8327-4ec1-bba2-6c40380a9ec2",
   "metadata": {
    "id": "CRCeERdXmmKp"
   },
   "source": [
    "Las strings, en el fondo, se pueden entender como arrays de números enteros, donde cada caracter tiene un equivalente numérico definido por la tabla ASCII.\n",
    "\n",
    "[Ejemplo de tabla ASCII de San Google](https://elcodigoascii.com.ar/)"
   ]
  },
  {
   "cell_type": "markdown",
   "id": "afd47f31-4b51-4e5b-9993-f02d0c61c803",
   "metadata": {
    "id": "m1sTFv30nlQ5"
   },
   "source": [
    "Al ser arrays, puedo acceder a los elementos individuales del lenguaje. Para ello, utilizamos el **operador de indexación [ ]**."
   ]
  },
  {
   "cell_type": "code",
   "execution_count": null,
   "id": "94d1b696-03fc-47da-9c65-ae5d5bb97bc2",
   "metadata": {
    "colab": {
     "base_uri": "https://localhost:8080/"
    },
    "id": "gRwXlWOCmfa6",
    "outputId": "86e72c30-3bd0-4a58-ae15-2d5a651e925c"
   },
   "outputs": [
    {
     "data": {
      "text/plain": [
       "('H', 'o', 'l', 'a')"
      ]
     },
     "execution_count": 47,
     "metadata": {},
     "output_type": "execute_result"
    }
   ],
   "source": [
    "# Ejemplo, para acceder a los elementos del \"Hola\",\n",
    "# cuya referencia es s1:\n",
    "s1[0], s1[1], s1[2], s1[3]"
   ]
  },
  {
   "cell_type": "markdown",
   "id": "bfca8aef-7c7c-4d87-9900-73f292648927",
   "metadata": {
    "id": "TfFpddaIoNx9"
   },
   "source": [
    "Este operador me retorna los elementos de mi objetos según su índice, **partiendo desde cero**.\n",
    "* En Python, todas las cosas indexadas parten desde cero\n",
    "* Y el operador de indexación aplica la misma lógica para todos los objetos (fundamentales) del lenguaje."
   ]
  },
  {
   "cell_type": "code",
   "execution_count": null,
   "id": "db232866-0228-415d-88cf-9dd70af002f5",
   "metadata": {
    "colab": {
     "base_uri": "https://localhost:8080/",
     "height": 35
    },
    "id": "JY6hh3g-n-Ft",
    "outputId": "7fdb38c8-80e1-44ec-bc66-4242b6eb518b"
   },
   "outputs": [
    {
     "data": {
      "application/vnd.google.colaboratory.intrinsic+json": {
       "type": "string"
      },
      "text/plain": [
       "'a'"
      ]
     },
     "execution_count": 48,
     "metadata": {},
     "output_type": "execute_result"
    }
   ],
   "source": [
    "# Tambien admite números negativos:\n",
    "s1[-1]"
   ]
  },
  {
   "cell_type": "markdown",
   "id": "fc729670-561b-484f-bdea-3b4a6bbee59d",
   "metadata": {
    "id": "FeNs060NozHM"
   },
   "source": [
    "Con los números negativos accedemos a los elementos pero contando desde el último (-1) hacia atrás (-2, -3, ...)"
   ]
  },
  {
   "cell_type": "code",
   "execution_count": null,
   "id": "224cd1d9-019e-4cde-a397-b770935d35c5",
   "metadata": {
    "colab": {
     "base_uri": "https://localhost:8080/"
    },
    "id": "bzj-KOjjox1q",
    "outputId": "4299d66f-ba18-4fea-f13f-15017830dc9b"
   },
   "outputs": [
    {
     "data": {
      "text/plain": [
       "('e', 'n')"
      ]
     },
     "execution_count": 49,
     "metadata": {},
     "output_type": "execute_result"
    }
   ],
   "source": [
    "s2[-2], s2[-3]"
   ]
  },
  {
   "cell_type": "markdown",
   "id": "193e3ead-6845-45d2-b6d2-bb469e45466e",
   "metadata": {
    "id": "fhTNdy8JpAbt"
   },
   "source": [
    "¿qué pasa si le solicito un índice que no corresponde (porque es mayor o menor que los números permitidos según el tamaño del string)?"
   ]
  },
  {
   "cell_type": "code",
   "execution_count": null,
   "id": "6c925f5a-9cd1-46ef-b613-19e34f904873",
   "metadata": {
    "colab": {
     "base_uri": "https://localhost:8080/",
     "height": 141
    },
    "id": "yNSw_GCdo9XT",
    "outputId": "4636ead0-3df3-4148-a116-967e01541045"
   },
   "outputs": [
    {
     "ename": "IndexError",
     "evalue": "string index out of range",
     "output_type": "error",
     "traceback": [
      "\u001b[0;31m---------------------------------------------------------------------------\u001b[0m",
      "\u001b[0;31mIndexError\u001b[0m                                Traceback (most recent call last)",
      "\u001b[0;32m<ipython-input-52-167032143c76>\u001b[0m in \u001b[0;36m<cell line: 1>\u001b[0;34m()\u001b[0m\n\u001b[0;32m----> 1\u001b[0;31m \u001b[0ms1\u001b[0m\u001b[0;34m[\u001b[0m\u001b[0;36m4\u001b[0m\u001b[0;34m]\u001b[0m\u001b[0;34m\u001b[0m\u001b[0;34m\u001b[0m\u001b[0m\n\u001b[0m",
      "\u001b[0;31mIndexError\u001b[0m: string index out of range"
     ]
    }
   ],
   "source": [
    "s1[4]"
   ]
  },
  {
   "cell_type": "markdown",
   "id": "2e402897-5f5e-4a6d-94f4-b43de913b8db",
   "metadata": {
    "id": "93za-yFHpgxh"
   },
   "source": [
    "El operador de indexación permite realizar una operación que combina elementos consecutivos del objeto, creando uno nuevo: esto es la **operación slice**. Para ello, utilizamos el \":\" dentro del operador y dos enteros:"
   ]
  },
  {
   "cell_type": "code",
   "execution_count": null,
   "id": "921c5e5c-3d12-4837-be66-49f68bf42f1d",
   "metadata": {
    "colab": {
     "base_uri": "https://localhost:8080/"
    },
    "id": "VSGrosuIpKa5",
    "outputId": "0bf50f28-e208-422c-838d-0367dcb64e0c"
   },
   "outputs": [
    {
     "name": "stdout",
     "output_type": "stream",
     "text": [
      "Ven michi michi michi!\n"
     ]
    }
   ],
   "source": [
    "s7 = s5+3*s6+\"!\"\n",
    "print(s7)"
   ]
  },
  {
   "cell_type": "code",
   "execution_count": null,
   "id": "65b85a76-53c7-4c3b-a137-1213f765bc05",
   "metadata": {
    "colab": {
     "base_uri": "https://localhost:8080/",
     "height": 35
    },
    "id": "xbuoXC45p5OY",
    "outputId": "13f12082-27fd-4b6b-f929-43775775cfa3"
   },
   "outputs": [
    {
     "data": {
      "application/vnd.google.colaboratory.intrinsic+json": {
       "type": "string"
      },
      "text/plain": [
       "'michi'"
      ]
     },
     "execution_count": 55,
     "metadata": {},
     "output_type": "execute_result"
    }
   ],
   "source": [
    "s7[4:9]"
   ]
  },
  {
   "cell_type": "markdown",
   "id": "3f7fae2f-81e5-4088-9b22-c7ada1c997f1",
   "metadata": {
    "id": "Oi-7PIBlqPmk"
   },
   "source": [
    "Vemos que el primer número de la indexación es incluyente, mientras que el segundo es excluyente. Esto funciona de forma análoga en caso de utilizar números negativos:"
   ]
  },
  {
   "cell_type": "code",
   "execution_count": null,
   "id": "7b53a5df-8362-4a28-a177-cc1050f17f3b",
   "metadata": {
    "colab": {
     "base_uri": "https://localhost:8080/",
     "height": 35
    },
    "id": "MZ8cMHK7p5Qr",
    "outputId": "4cce7b4b-55ac-4462-8ed3-2aaa2470c14c"
   },
   "outputs": [
    {
     "data": {
      "application/vnd.google.colaboratory.intrinsic+json": {
       "type": "string"
      },
      "text/plain": [
       "'michi'"
      ]
     },
     "execution_count": 56,
     "metadata": {},
     "output_type": "execute_result"
    }
   ],
   "source": [
    "s7[-6:-1]"
   ]
  },
  {
   "cell_type": "markdown",
   "id": "c7c6edb2-c868-41a7-acd5-5ca3f6bbb2b1",
   "metadata": {
    "id": "vkEJODbvqypf"
   },
   "source": [
    "Si omitimos uno de los números, se entiende como \"hasta el principio\" (en el caso del primero) o \"hasta el final\" (en el caso del último)."
   ]
  },
  {
   "cell_type": "code",
   "execution_count": null,
   "id": "0f9540b3-a737-41ed-b0b6-19d2224d3e8a",
   "metadata": {
    "colab": {
     "base_uri": "https://localhost:8080/",
     "height": 35
    },
    "id": "e1hd4MnUqzY_",
    "outputId": "8eea77c7-d567-4a61-eee6-75209a4fcb2e"
   },
   "outputs": [
    {
     "data": {
      "application/vnd.google.colaboratory.intrinsic+json": {
       "type": "string"
      },
      "text/plain": [
       "'Hol'"
      ]
     },
     "execution_count": 62,
     "metadata": {},
     "output_type": "execute_result"
    }
   ],
   "source": [
    "# desde el principio:\n",
    "s1[:3]"
   ]
  },
  {
   "cell_type": "code",
   "execution_count": null,
   "id": "8f973a28-2907-49f0-8424-537b037b5a9c",
   "metadata": {
    "colab": {
     "base_uri": "https://localhost:8080/",
     "height": 35
    },
    "id": "GPfnHIt5rALk",
    "outputId": "4820aa03-0920-4244-a04c-4afba2005f1e"
   },
   "outputs": [
    {
     "data": {
      "application/vnd.google.colaboratory.intrinsic+json": {
       "type": "string"
      },
      "text/plain": [
       "'la'"
      ]
     },
     "execution_count": 63,
     "metadata": {},
     "output_type": "execute_result"
    }
   ],
   "source": [
    "# hasta el final:\n",
    "s1[2:]"
   ]
  },
  {
   "cell_type": "markdown",
   "id": "73a1712a-0498-4c69-b512-e20bf9d8b38e",
   "metadata": {
    "id": "ta6sPsETpg2b"
   },
   "source": [
    "La decisión de que uno sea excluyente y otro no, es para poder tener simetría en la operación conjunta:"
   ]
  },
  {
   "cell_type": "code",
   "execution_count": null,
   "id": "f2a3d50f-4e3f-48dd-86b7-f36b2f8b1244",
   "metadata": {
    "colab": {
     "base_uri": "https://localhost:8080/",
     "height": 35
    },
    "id": "Mj6mY9aRqq_f",
    "outputId": "813d35e2-d7e6-480c-ef92-782e845bc05e"
   },
   "outputs": [
    {
     "data": {
      "application/vnd.google.colaboratory.intrinsic+json": {
       "type": "string"
      },
      "text/plain": [
       "'Hola'"
      ]
     },
     "execution_count": 66,
     "metadata": {},
     "output_type": "execute_result"
    }
   ],
   "source": [
    "ind = 1\n",
    "s1[:ind] + s1[ind:]"
   ]
  },
  {
   "cell_type": "markdown",
   "id": "dea2f4fc-d3d4-42ea-8598-235f7781631e",
   "metadata": {
    "id": "Y61v7YG_pg0R"
   },
   "source": [
    "Python permite crear string con múltiples líneas (de las celdas de instrucción) utilizando la comilla triple:"
   ]
  },
  {
   "cell_type": "code",
   "execution_count": null,
   "id": "56e9bdb7-fb54-4ab8-8430-75daa4411bc2",
   "metadata": {
    "id": "t1XuGoPHqrG3"
   },
   "outputs": [],
   "source": [
    "s7 = \"\"\"Hola\n",
    "mundo\"\"\""
   ]
  },
  {
   "cell_type": "code",
   "execution_count": null,
   "id": "f2b5969f-7d68-4c3d-8f85-b1bcea1e5d06",
   "metadata": {
    "colab": {
     "base_uri": "https://localhost:8080/"
    },
    "id": "E-GtDPusruKm",
    "outputId": "44257bd6-8ea1-491d-dbca-f349502cfe01"
   },
   "outputs": [
    {
     "name": "stdout",
     "output_type": "stream",
     "text": [
      "Hola\n",
      "mundo\n"
     ]
    }
   ],
   "source": [
    "print(s7)"
   ]
  },
  {
   "cell_type": "markdown",
   "id": "a16d89bc-e08d-4564-a130-717dc9dd1839",
   "metadata": {
    "id": "EhC6XwHQr2l3"
   },
   "source": [
    "Las comillas triples tienen un significado en Python porque el intérprete automáticamente las asocia con documentación del código."
   ]
  },
  {
   "cell_type": "markdown",
   "id": "04ee1d1a-295a-4b59-a52a-adcc60a2f200",
   "metadata": {
    "id": "eWGp3ms4sEFX"
   },
   "source": [
    "### Importante\n",
    "\n",
    " A nivel computacional, el problema que conlleva trabajar con texto es que los objetos que lo almacenen necesitan conocer, antes de crearlo, el tamaño final del texto a almacenar para utilizar una cantidad de memoria suficiente para contener toda la información. Por ejemplo: no se necesita la misma cantidad de bytes para almacenar la palabra\n",
    "\n",
    "> \"hola\"\n",
    "\n",
    "en comparación con el texto\n",
    "\n",
    "> \"Hay una tetera entre la Tierra y Marte que gira alrededor del Sol en una órbita elíptica y es tan pequeña que no puede ser vista ni por los telescopios humanos más potentes.\"\n",
    "\n",
    "La característica anterior impone que las strings sean objetos **inmutables**, es decir, que _no se pueden modificar una vez que han sido creados_."
   ]
  },
  {
   "cell_type": "code",
   "execution_count": null,
   "id": "fc186bce-9dc1-472c-8eb3-9542bce225bb",
   "metadata": {
    "colab": {
     "base_uri": "https://localhost:8080/",
     "height": 159
    },
    "id": "pY_N167krvb5",
    "outputId": "425022ad-049c-49ba-9b3c-854cc1e4996c"
   },
   "outputs": [
    {
     "ename": "TypeError",
     "evalue": "'str' object does not support item assignment",
     "output_type": "error",
     "traceback": [
      "\u001b[0;31m---------------------------------------------------------------------------\u001b[0m",
      "\u001b[0;31mTypeError\u001b[0m                                 Traceback (most recent call last)",
      "\u001b[0;32m<ipython-input-72-db974befeab2>\u001b[0m in \u001b[0;36m<cell line: 2>\u001b[0;34m()\u001b[0m\n\u001b[1;32m      1\u001b[0m \u001b[0;31m# Intentemos pasar a minúscula el primer elemento de \"Hola\"\u001b[0m\u001b[0;34m\u001b[0m\u001b[0;34m\u001b[0m\u001b[0m\n\u001b[0;32m----> 2\u001b[0;31m \u001b[0ms1\u001b[0m\u001b[0;34m[\u001b[0m\u001b[0;36m0\u001b[0m\u001b[0;34m]\u001b[0m \u001b[0;34m=\u001b[0m \u001b[0;34m\"h\"\u001b[0m\u001b[0;34m\u001b[0m\u001b[0;34m\u001b[0m\u001b[0m\n\u001b[0m",
      "\u001b[0;31mTypeError\u001b[0m: 'str' object does not support item assignment"
     ]
    }
   ],
   "source": [
    "# Intentemos pasar a minúscula el primer elemento de \"Hola\"\n",
    "s1[0] = \"h\""
   ]
  },
  {
   "cell_type": "markdown",
   "id": "4761cc24-01d8-449a-b9ca-06ac83d598af",
   "metadata": {
    "id": "ogHxToi7sy7F"
   },
   "source": [
    "Si necesitamos modificar una string, el procedimiento es _crear objetos nuevos a partir de los ya definidos, utilizando los operadores vistos hasta el momento_ (=, +, *, ., [])."
   ]
  },
  {
   "cell_type": "code",
   "execution_count": null,
   "id": "4e47d277-cf8f-4c09-8751-3ad937fdd95c",
   "metadata": {
    "colab": {
     "base_uri": "https://localhost:8080/"
    },
    "id": "78G0R_sNsjNC",
    "outputId": "a41b4bac-1bfd-4a9e-a6bf-fb3703d9a3a7"
   },
   "outputs": [
    {
     "name": "stdout",
     "output_type": "stream",
     "text": [
      "Hola\n"
     ]
    }
   ],
   "source": [
    "s1cap = \"H\" + s1[1:]\n",
    "print(s1cap)"
   ]
  },
  {
   "cell_type": "code",
   "execution_count": 21,
   "id": "55d03d30-33b7-4d45-9355-5ec6c162674e",
   "metadata": {
    "id": "TxVS-ahL-x6r"
   },
   "outputs": [],
   "source": [
    "s1 = \"Hola\"\n",
    "s2 = \"Mundo\""
   ]
  },
  {
   "cell_type": "code",
   "execution_count": 22,
   "id": "b6956190-6ca7-47c8-aa5b-d481696c985a",
   "metadata": {
    "colab": {
     "base_uri": "https://localhost:8080/",
     "height": 55
    },
    "id": "JiwNLT3m_MhY",
    "outputId": "59ede78f-e799-4ba8-c1f8-b99d940b035d"
   },
   "outputs": [
    {
     "data": {
      "application/vnd.google.colaboratory.intrinsic+json": {
       "type": "string"
      },
      "text/plain": [
       "'Hola Mundo'"
      ]
     },
     "execution_count": 22,
     "metadata": {},
     "output_type": "execute_result"
    }
   ],
   "source": [
    "# Puedo combinar las variables utilizando las mismas comillas\n",
    "\"Hola\"    \" \"     \"Mundo\""
   ]
  },
  {
   "cell_type": "code",
   "execution_count": 23,
   "id": "fd85df0f-ea99-4daa-8bbd-c99af94db4c0",
   "metadata": {
    "colab": {
     "base_uri": "https://localhost:8080/",
     "height": 55
    },
    "id": "6lx_iFB__Nqo",
    "outputId": "5b45c56a-7bfe-4316-bcda-814374eea9bf"
   },
   "outputs": [
    {
     "data": {
      "application/vnd.google.colaboratory.intrinsic+json": {
       "type": "string"
      },
      "text/plain": [
       "'HolaMundo'"
      ]
     },
     "execution_count": 23,
     "metadata": {},
     "output_type": "execute_result"
    }
   ],
   "source": [
    "# Incluso puedo realizar operaciones entre las strings:\n",
    "s1 + s2"
   ]
  },
  {
   "cell_type": "code",
   "execution_count": 24,
   "id": "c456a460-3a97-46fa-80bc-ed73f0089ebe",
   "metadata": {
    "colab": {
     "base_uri": "https://localhost:8080/",
     "height": 55
    },
    "id": "xlZ9boVfAD-E",
    "outputId": "2f7c3f21-362a-4970-8d74-3ddc4411ce60"
   },
   "outputs": [
    {
     "data": {
      "application/vnd.google.colaboratory.intrinsic+json": {
       "type": "string"
      },
      "text/plain": [
       "'Hola Mundo cruel'"
      ]
     },
     "execution_count": 24,
     "metadata": {},
     "output_type": "execute_result"
    }
   ],
   "source": [
    "s1 + \" \" + s2 + \" cruel\""
   ]
  },
  {
   "cell_type": "code",
   "execution_count": 25,
   "id": "7e7ad43e-baf2-4124-93c5-a1bbf7c1668c",
   "metadata": {
    "id": "PBWMXRukAKiz"
   },
   "outputs": [],
   "source": [
    "#y eso incluso lo podemos guardar en una variable nueva:\n",
    "s3 = s1 + \" \" + s2 + \" cruel\""
   ]
  },
  {
   "cell_type": "code",
   "execution_count": 26,
   "id": "f19b33c1-0d25-42a3-ba85-094019b3fea9",
   "metadata": {
    "colab": {
     "base_uri": "https://localhost:8080/",
     "height": 55
    },
    "id": "2TL8yFXqAQ_S",
    "outputId": "dbd21d45-28d9-4151-ce98-f3b6cea68e82"
   },
   "outputs": [
    {
     "data": {
      "application/vnd.google.colaboratory.intrinsic+json": {
       "type": "string"
      },
      "text/plain": [
       "'Hola Mundo cruel'"
      ]
     },
     "execution_count": 26,
     "metadata": {},
     "output_type": "execute_result"
    }
   ],
   "source": [
    "s3"
   ]
  },
  {
   "cell_type": "code",
   "execution_count": null,
   "id": "480d22ee-119f-4199-b093-8ac02394fb34",
   "metadata": {},
   "outputs": [],
   "source": []
  },
  {
   "cell_type": "code",
   "execution_count": null,
   "id": "d638ec6a-02d3-40a1-8c1b-9ccea8bb2fda",
   "metadata": {},
   "outputs": [],
   "source": []
  },
  {
   "cell_type": "code",
   "execution_count": null,
   "id": "7a28e5e2-b09b-4b7f-ae81-4d7be269e99d",
   "metadata": {},
   "outputs": [],
   "source": []
  },
  {
   "cell_type": "code",
   "execution_count": null,
   "id": "835b88d7-6466-45b5-8965-f419d627bbe3",
   "metadata": {},
   "outputs": [],
   "source": []
  },
  {
   "cell_type": "code",
   "execution_count": 13,
   "id": "b193a7a5-899c-4c59-aba0-9299243fcc2c",
   "metadata": {
    "colab": {
     "base_uri": "https://localhost:8080/"
    },
    "id": "xWW2IBax6rIx",
    "outputId": "0d6a0a43-0986-4c46-c12d-d245605767de"
   },
   "outputs": [
    {
     "data": {
      "text/plain": [
       "6"
      ]
     },
     "execution_count": 13,
     "metadata": {},
     "output_type": "execute_result"
    }
   ],
   "source": [
    "# Tip: podemos abreviar algunas operaciones cuando hay variables repetidas\n",
    "a = 5\n",
    "a = a + 1\n",
    "a"
   ]
  },
  {
   "cell_type": "code",
   "execution_count": 14,
   "id": "6ea6f02e-fbdf-4634-b622-b9a5d06b0d09",
   "metadata": {
    "colab": {
     "base_uri": "https://localhost:8080/"
    },
    "id": "hEpmW8wp6Upa",
    "outputId": "99c047c0-1bb8-44c8-975a-29000aab2281"
   },
   "outputs": [
    {
     "data": {
      "text/plain": [
       "6"
      ]
     },
     "execution_count": 14,
     "metadata": {},
     "output_type": "execute_result"
    }
   ],
   "source": [
    "# Esto se puede escribir como\n",
    "a = 5\n",
    "a += 1\n",
    "a"
   ]
  },
  {
   "cell_type": "code",
   "execution_count": 15,
   "id": "b118f54d-8eba-4eb6-8085-be6c6d1812c0",
   "metadata": {
    "colab": {
     "base_uri": "https://localhost:8080/",
     "height": 196
    },
    "id": "5G4CKAsD5des",
    "outputId": "7d3db6e8-cbd4-4157-aa54-3713ee1262de"
   },
   "outputs": [
    {
     "ename": "NameError",
     "evalue": "name 'n' is not defined",
     "output_type": "error",
     "traceback": [
      "\u001b[0;31m---------------------------------------------------------------------------\u001b[0m",
      "\u001b[0;31mNameError\u001b[0m                                 Traceback (most recent call last)",
      "\u001b[0;32m<ipython-input-15-5c1cc0070e1e>\u001b[0m in \u001b[0;36m<cell line: 4>\u001b[0;34m()\u001b[0m\n\u001b[1;32m      2\u001b[0m \u001b[0;31m# qué variables (referencias) se han creado hasta el momento.\u001b[0m\u001b[0;34m\u001b[0m\u001b[0;34m\u001b[0m\u001b[0m\n\u001b[1;32m      3\u001b[0m \u001b[0;31m# Por ejemplo, si consultamos por una que no hemos definido:\u001b[0m\u001b[0;34m\u001b[0m\u001b[0;34m\u001b[0m\u001b[0m\n\u001b[0;32m----> 4\u001b[0;31m \u001b[0mn\u001b[0m\u001b[0;34m\u001b[0m\u001b[0;34m\u001b[0m\u001b[0m\n\u001b[0m",
      "\u001b[0;31mNameError\u001b[0m: name 'n' is not defined"
     ]
    }
   ],
   "source": [
    "# Python \"sabe\" (porque el intérprete está en ejecución y no se ha detenido)\n",
    "# qué variables (referencias) se han creado hasta el momento.\n",
    "# Por ejemplo, si consultamos por una que no hemos definido:\n",
    "n"
   ]
  },
  {
   "cell_type": "code",
   "execution_count": 16,
   "id": "f3b2081a-b560-4795-b30c-9305011a0b4a",
   "metadata": {
    "colab": {
     "base_uri": "https://localhost:8080/"
    },
    "id": "BTxmIEvm7jH0",
    "outputId": "7d5c4835-2087-4d58-eef4-3a570cf227fd"
   },
   "outputs": [
    {
     "name": "stdout",
     "output_type": "stream",
     "text": [
      "a\t b\t \n"
     ]
    }
   ],
   "source": [
    "# Podemos acceder a la lista de referencias\n",
    "# definidas con el comando mágico:\n",
    "%who"
   ]
  },
  {
   "cell_type": "code",
   "execution_count": 17,
   "id": "6b02eb67-ce2e-4082-b327-6fbca052c7af",
   "metadata": {
    "colab": {
     "base_uri": "https://localhost:8080/",
     "height": 196
    },
    "id": "U4-HItNo7z9R",
    "outputId": "9777504c-c3b5-43f3-de31-cb363544daca"
   },
   "outputs": [
    {
     "ename": "ZeroDivisionError",
     "evalue": "division by zero",
     "output_type": "error",
     "traceback": [
      "\u001b[0;31m---------------------------------------------------------------------------\u001b[0m",
      "\u001b[0;31mZeroDivisionError\u001b[0m                         Traceback (most recent call last)",
      "\u001b[0;32m<ipython-input-17-3a5717d93b4b>\u001b[0m in \u001b[0;36m<cell line: 4>\u001b[0;34m()\u001b[0m\n\u001b[1;32m      2\u001b[0m \u001b[0;31m# Python puede reconocer el tipo de error cuando este sucede. Ejemplo:\u001b[0m\u001b[0;34m\u001b[0m\u001b[0;34m\u001b[0m\u001b[0m\n\u001b[1;32m      3\u001b[0m \u001b[0mzero\u001b[0m \u001b[0;34m=\u001b[0m \u001b[0;36m0\u001b[0m\u001b[0;34m\u001b[0m\u001b[0;34m\u001b[0m\u001b[0m\n\u001b[0;32m----> 4\u001b[0;31m \u001b[0ma\u001b[0m \u001b[0;34m/\u001b[0m \u001b[0mzero\u001b[0m\u001b[0;34m\u001b[0m\u001b[0;34m\u001b[0m\u001b[0m\n\u001b[0m",
      "\u001b[0;31mZeroDivisionError\u001b[0m: division by zero"
     ]
    }
   ],
   "source": [
    "# Como sucedión con el ejemplo de la referencia desconocida,\n",
    "# Python puede reconocer el tipo de error cuando este sucede. Ejemplo:\n",
    "zero = 0\n",
    "a / zero"
   ]
  }
 ],
 "metadata": {
  "kernelspec": {
   "display_name": "Python 3 (ipykernel)",
   "language": "python",
   "name": "python3"
  },
  "language_info": {
   "codemirror_mode": {
    "name": "ipython",
    "version": 3
   },
   "file_extension": ".py",
   "mimetype": "text/x-python",
   "name": "python",
   "nbconvert_exporter": "python",
   "pygments_lexer": "ipython3",
   "version": "3.13.2"
  }
 },
 "nbformat": 4,
 "nbformat_minor": 5
}
