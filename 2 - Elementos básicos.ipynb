{
 "cells": [
  {
   "cell_type": "code",
   "execution_count": null,
   "id": "0ce1dad7-4739-41b1-81a6-4c32bee8e4ba",
   "metadata": {},
   "outputs": [],
   "source": []
  },
  {
   "cell_type": "code",
   "execution_count": null,
   "id": "83077a8f-9c80-47c1-bee1-807b9194854e",
   "metadata": {
    "colab": {
     "base_uri": "https://localhost:8080/"
    },
    "id": "i9x0kp9htyo4",
    "outputId": "26ca57db-e74b-4f01-883a-483712fd5cf0"
   },
   "outputs": [
    {
     "data": {
      "text/plain": [
       "8"
      ]
     },
     "execution_count": 1,
     "metadata": {},
     "output_type": "execute_result"
    }
   ],
   "source": [
    "# Esta es una casilla de código! Las instrucciones de acá son enviadas al intérprete\n",
    "# con [Shift] + [Enter]\n",
    "\n",
    "# <- Este símbolo hace que esta línea sea un comentario!\n",
    "\n",
    "# Con Python podemos hacer operaciones matemáticas! ejemplo:\n",
    "\n",
    "3+5"
   ]
  },
  {
   "cell_type": "code",
   "execution_count": 2,
   "id": "f9e70f5d-9c3b-431e-a460-ce5f2de1a7b2",
   "metadata": {
    "colab": {
     "base_uri": "https://localhost:8080/"
    },
    "id": "1vExrAZB2ENN",
    "outputId": "966638f2-2ce0-4305-8144-1371a1cfb130"
   },
   "outputs": [
    {
     "data": {
      "text/plain": [
       "9.0"
      ]
     },
     "execution_count": 2,
     "metadata": {},
     "output_type": "execute_result"
    }
   ],
   "source": [
    "# y también cosas muy complejas a nivel matemático (respeta paréntesis y orden de evaluación)\n",
    "# sin importar si mezcla enteros, flotantes, etc..\n",
    "3*(6/3 + 1)"
   ]
  },
  {
   "cell_type": "code",
   "execution_count": 3,
   "id": "03e894a2-88b1-4047-9e11-960bd7666626",
   "metadata": {
    "colab": {
     "base_uri": "https://localhost:8080/"
    },
    "id": "qLQN25FB3oxV",
    "outputId": "767430ea-30fe-45ba-d59b-61ec10ec4ba3"
   },
   "outputs": [
    {
     "data": {
      "text/plain": [
       "81.0"
      ]
     },
     "execution_count": 3,
     "metadata": {},
     "output_type": "execute_result"
    }
   ],
   "source": [
    "# Acá con una potencia\n",
    "3*(6/3 + 1)**3"
   ]
  },
  {
   "cell_type": "code",
   "execution_count": 4,
   "id": "6a158947-6ff7-49ff-a47d-aba34a334b60",
   "metadata": {
    "colab": {
     "base_uri": "https://localhost:8080/"
    },
    "id": "zhTGyJ4wusxH",
    "outputId": "b6a83960-c085-4f25-b12d-0acb08b50924"
   },
   "outputs": [
    {
     "data": {
      "text/plain": [
       "1.1076776857006647e+218"
      ]
     },
     "execution_count": 4,
     "metadata": {},
     "output_type": "execute_result"
    }
   ],
   "source": [
    "# Incluso puede ser muy alta! y Python la puede calcular.\n",
    "3*(6/3 + 1)**456"
   ]
  },
  {
   "cell_type": "code",
   "execution_count": 5,
   "id": "9d7bb550-289d-4e60-b7eb-aa8a9b28b167",
   "metadata": {
    "colab": {
     "base_uri": "https://localhost:8080/"
    },
    "id": "BqmYUcVZ2OEL",
    "outputId": "c45e0365-87c7-4d68-8544-b6e4c0614e9f"
   },
   "outputs": [
    {
     "data": {
      "text/plain": [
       "2"
      ]
     },
     "execution_count": 5,
     "metadata": {},
     "output_type": "execute_result"
    }
   ],
   "source": [
    "# Esta es la operación \"resto de la división\"\n",
    "6%4"
   ]
  },
  {
   "cell_type": "code",
   "execution_count": 6,
   "id": "fc476e3d-bc1e-42f1-88bb-193beb882589",
   "metadata": {
    "colab": {
     "base_uri": "https://localhost:8080/"
    },
    "id": "x_I-xSCB2h0Z",
    "outputId": "50c6f8a5-e8d0-4208-cb07-0ec96372c385"
   },
   "outputs": [
    {
     "data": {
      "text/plain": [
       "534"
      ]
     },
     "execution_count": 6,
     "metadata": {},
     "output_type": "execute_result"
    }
   ],
   "source": [
    "# Las \"salidas\" (outputs) del intérprete se envían en orden de ejecución,\n",
    "# línea por línea\n",
    "# Esta interfaz muestra la última luego de la celda:\n",
    "4+5\n",
    "6*89"
   ]
  },
  {
   "cell_type": "markdown",
   "id": "534e7b54-6b03-45eb-9e6d-fcebf8325e0e",
   "metadata": {
    "id": "StGq0Bbq5GWX"
   },
   "source": [
    "## Variables\n",
    "\n",
    "En Python podemos definir \"variables\" que tienen un \"nombre\" y \"contenido\":"
   ]
  },
  {
   "cell_type": "code",
   "execution_count": 7,
   "id": "dec90ed1-2f3c-42a0-b059-c7248185ccc0",
   "metadata": {
    "id": "SnU62rRR41Bv"
   },
   "outputs": [],
   "source": [
    "# Acá tenemos dos definiciones\n",
    "a = 3\n",
    "b = 3.1415"
   ]
  },
  {
   "cell_type": "code",
   "execution_count": 8,
   "id": "94b0125f-651b-434a-b694-604932f831b0",
   "metadata": {
    "colab": {
     "base_uri": "https://localhost:8080/"
    },
    "id": "30ycIgPE5Y19",
    "outputId": "754930e4-8ebb-4aab-afb8-b5bbe1d0f3c7"
   },
   "outputs": [
    {
     "data": {
      "text/plain": [
       "9.4245"
      ]
     },
     "execution_count": 8,
     "metadata": {},
     "output_type": "execute_result"
    }
   ],
   "source": [
    "#Podemos hacer operaciones entre \"variables\"\n",
    "a*b"
   ]
  },
  {
   "cell_type": "code",
   "execution_count": 9,
   "id": "45d6dc89-7f08-454f-9fa8-68ef79fa06dd",
   "metadata": {
    "colab": {
     "base_uri": "https://localhost:8080/"
    },
    "id": "ob3t4n826Ulz",
    "outputId": "8f129915-7edf-4f0a-c426-eb24e148a5c8"
   },
   "outputs": [
    {
     "data": {
      "text/plain": [
       "31.54106995953402"
      ]
     },
     "execution_count": 9,
     "metadata": {},
     "output_type": "execute_result"
    }
   ],
   "source": [
    "a**b"
   ]
  },
  {
   "cell_type": "markdown",
   "id": "758aab56-57c8-4485-b53c-a176235f96c4",
   "metadata": {
    "id": "B9KZiKfwvZ6-"
   },
   "source": [
    "Cada vez que se define una \"variable\" en Python, en verdad se crean dos cosas:\n",
    "*   El objeto que contiene la variable.\n",
    "*   La referencia (nombre) que se usará para acceder al objeto.\n",
    "\n",
    "Así, cuando hacemos\n",
    "\n",
    "> a = 3\n",
    "\n",
    "Python no solo almacena el entero \"3\" en la memoria, sino que también su nombre \"a\". Es importante tener en cuenta esto para usar correctamente Python.\n",
    "\n"
   ]
  },
  {
   "cell_type": "markdown",
   "id": "ceb15252-d3b4-4106-a29a-5f368037f9b3",
   "metadata": {
    "id": "fTTZvH9J6aqR"
   },
   "source": [
    "Si queremos saber qué es (consultar por el tipo) una variable, en Python podemos utilizar la **función** `type`."
   ]
  },
  {
   "cell_type": "code",
   "execution_count": 10,
   "id": "fa2f187c-2398-41fa-9896-d177e85ab6c0",
   "metadata": {
    "colab": {
     "base_uri": "https://localhost:8080/"
    },
    "id": "pqV3dnqb6UoC",
    "outputId": "fa721c7b-8583-4147-f742-80f176f97811"
   },
   "outputs": [
    {
     "data": {
      "text/plain": [
       "int"
      ]
     },
     "execution_count": 10,
     "metadata": {},
     "output_type": "execute_result"
    }
   ],
   "source": [
    "type(3)"
   ]
  },
  {
   "cell_type": "code",
   "execution_count": 11,
   "id": "d853c6d4-f4f6-4052-a94f-1dc8aa0e1c9c",
   "metadata": {
    "colab": {
     "base_uri": "https://localhost:8080/"
    },
    "id": "fAaCqP1y6oSR",
    "outputId": "64c68e46-1b27-4b27-db4f-c1fee233a99e"
   },
   "outputs": [
    {
     "data": {
      "text/plain": [
       "float"
      ]
     },
     "execution_count": 11,
     "metadata": {},
     "output_type": "execute_result"
    }
   ],
   "source": [
    "type(b)"
   ]
  },
  {
   "cell_type": "code",
   "execution_count": 12,
   "id": "40329dd0-1a2d-454c-9534-735629a774c1",
   "metadata": {
    "colab": {
     "base_uri": "https://localhost:8080/"
    },
    "id": "rPEY3cJ46rzw",
    "outputId": "edafb645-eabe-403a-ed19-c6c68f33b592"
   },
   "outputs": [
    {
     "data": {
      "text/plain": [
       "type"
      ]
     },
     "execution_count": 12,
     "metadata": {},
     "output_type": "execute_result"
    }
   ],
   "source": [
    "type(type)"
   ]
  },
  {
   "cell_type": "markdown",
   "id": "e8a9b819-daf9-4b85-8679-7dda1dac4219",
   "metadata": {
    "id": "Hakuuh0g6Z6D"
   },
   "source": [
    "Vamos a utilizar `type` cada vez que no sepamos realmente qué tipo de objeto tengo almacenado en una \"variable\" (referencia)"
   ]
  },
  {
   "cell_type": "code",
   "execution_count": 13,
   "id": "b193a7a5-899c-4c59-aba0-9299243fcc2c",
   "metadata": {
    "colab": {
     "base_uri": "https://localhost:8080/"
    },
    "id": "xWW2IBax6rIx",
    "outputId": "0d6a0a43-0986-4c46-c12d-d245605767de"
   },
   "outputs": [
    {
     "data": {
      "text/plain": [
       "6"
      ]
     },
     "execution_count": 13,
     "metadata": {},
     "output_type": "execute_result"
    }
   ],
   "source": [
    "# Tip: podemos abreviar algunas operaciones cuando hay variables repetidas\n",
    "a = 5\n",
    "a = a + 1\n",
    "a"
   ]
  },
  {
   "cell_type": "code",
   "execution_count": 14,
   "id": "6ea6f02e-fbdf-4634-b622-b9a5d06b0d09",
   "metadata": {
    "colab": {
     "base_uri": "https://localhost:8080/"
    },
    "id": "hEpmW8wp6Upa",
    "outputId": "99c047c0-1bb8-44c8-975a-29000aab2281"
   },
   "outputs": [
    {
     "data": {
      "text/plain": [
       "6"
      ]
     },
     "execution_count": 14,
     "metadata": {},
     "output_type": "execute_result"
    }
   ],
   "source": [
    "# Esto se puede escribir como\n",
    "a = 5\n",
    "a += 1\n",
    "a"
   ]
  },
  {
   "cell_type": "code",
   "execution_count": 15,
   "id": "b118f54d-8eba-4eb6-8085-be6c6d1812c0",
   "metadata": {
    "colab": {
     "base_uri": "https://localhost:8080/",
     "height": 196
    },
    "id": "5G4CKAsD5des",
    "outputId": "7d3db6e8-cbd4-4157-aa54-3713ee1262de"
   },
   "outputs": [
    {
     "ename": "NameError",
     "evalue": "name 'n' is not defined",
     "output_type": "error",
     "traceback": [
      "\u001b[0;31m---------------------------------------------------------------------------\u001b[0m",
      "\u001b[0;31mNameError\u001b[0m                                 Traceback (most recent call last)",
      "\u001b[0;32m<ipython-input-15-5c1cc0070e1e>\u001b[0m in \u001b[0;36m<cell line: 4>\u001b[0;34m()\u001b[0m\n\u001b[1;32m      2\u001b[0m \u001b[0;31m# qué variables (referencias) se han creado hasta el momento.\u001b[0m\u001b[0;34m\u001b[0m\u001b[0;34m\u001b[0m\u001b[0m\n\u001b[1;32m      3\u001b[0m \u001b[0;31m# Por ejemplo, si consultamos por una que no hemos definido:\u001b[0m\u001b[0;34m\u001b[0m\u001b[0;34m\u001b[0m\u001b[0m\n\u001b[0;32m----> 4\u001b[0;31m \u001b[0mn\u001b[0m\u001b[0;34m\u001b[0m\u001b[0;34m\u001b[0m\u001b[0m\n\u001b[0m",
      "\u001b[0;31mNameError\u001b[0m: name 'n' is not defined"
     ]
    }
   ],
   "source": [
    "# Python \"sabe\" (porque el intérprete está en ejecución y no se ha detenido)\n",
    "# qué variables (referencias) se han creado hasta el momento.\n",
    "# Por ejemplo, si consultamos por una que no hemos definido:\n",
    "n"
   ]
  },
  {
   "cell_type": "code",
   "execution_count": 16,
   "id": "f3b2081a-b560-4795-b30c-9305011a0b4a",
   "metadata": {
    "colab": {
     "base_uri": "https://localhost:8080/"
    },
    "id": "BTxmIEvm7jH0",
    "outputId": "7d5c4835-2087-4d58-eef4-3a570cf227fd"
   },
   "outputs": [
    {
     "name": "stdout",
     "output_type": "stream",
     "text": [
      "a\t b\t \n"
     ]
    }
   ],
   "source": [
    "# Podemos acceder a la lista de referencias\n",
    "# definidas con el comando mágico:\n",
    "%who"
   ]
  },
  {
   "cell_type": "code",
   "execution_count": 17,
   "id": "6b02eb67-ce2e-4082-b327-6fbca052c7af",
   "metadata": {
    "colab": {
     "base_uri": "https://localhost:8080/",
     "height": 196
    },
    "id": "U4-HItNo7z9R",
    "outputId": "9777504c-c3b5-43f3-de31-cb363544daca"
   },
   "outputs": [
    {
     "ename": "ZeroDivisionError",
     "evalue": "division by zero",
     "output_type": "error",
     "traceback": [
      "\u001b[0;31m---------------------------------------------------------------------------\u001b[0m",
      "\u001b[0;31mZeroDivisionError\u001b[0m                         Traceback (most recent call last)",
      "\u001b[0;32m<ipython-input-17-3a5717d93b4b>\u001b[0m in \u001b[0;36m<cell line: 4>\u001b[0;34m()\u001b[0m\n\u001b[1;32m      2\u001b[0m \u001b[0;31m# Python puede reconocer el tipo de error cuando este sucede. Ejemplo:\u001b[0m\u001b[0;34m\u001b[0m\u001b[0;34m\u001b[0m\u001b[0m\n\u001b[1;32m      3\u001b[0m \u001b[0mzero\u001b[0m \u001b[0;34m=\u001b[0m \u001b[0;36m0\u001b[0m\u001b[0;34m\u001b[0m\u001b[0;34m\u001b[0m\u001b[0m\n\u001b[0;32m----> 4\u001b[0;31m \u001b[0ma\u001b[0m \u001b[0;34m/\u001b[0m \u001b[0mzero\u001b[0m\u001b[0;34m\u001b[0m\u001b[0;34m\u001b[0m\u001b[0m\n\u001b[0m",
      "\u001b[0;31mZeroDivisionError\u001b[0m: division by zero"
     ]
    }
   ],
   "source": [
    "# Como sucedión con el ejemplo de la referencia desconocida,\n",
    "# Python puede reconocer el tipo de error cuando este sucede. Ejemplo:\n",
    "zero = 0\n",
    "a / zero"
   ]
  },
  {
   "cell_type": "code",
   "execution_count": 18,
   "id": "f466a8c2-07a0-48aa-8dec-0e3db8db94b4",
   "metadata": {
    "id": "g9bUriit9g2y"
   },
   "outputs": [],
   "source": [
    "# Para hacer operaciones matemáticas mas avanzadas,\n",
    "# utilizamos una librería (o módulo) de Python.\n",
    "# Todas se cargan con la instrucción import.\n",
    "# En este caso, usaremos math. :\n",
    "import math"
   ]
  },
  {
   "cell_type": "code",
   "execution_count": 19,
   "id": "9e4d322e-ad3f-4f8c-8e94-c9b65af74eb7",
   "metadata": {
    "colab": {
     "base_uri": "https://localhost:8080/"
    },
    "id": "C3SUZnNa95IQ",
    "outputId": "04c3f533-0b35-4d8d-dc5e-c63d996a5655"
   },
   "outputs": [
    {
     "data": {
      "text/plain": [
       "module"
      ]
     },
     "execution_count": 19,
     "metadata": {},
     "output_type": "execute_result"
    }
   ],
   "source": [
    "# veamos el tipo de este objeto:\n",
    "type(math)"
   ]
  },
  {
   "cell_type": "code",
   "execution_count": 20,
   "id": "40679d0c-c354-446d-8a1c-b0e0bbb2e6b0",
   "metadata": {
    "colab": {
     "base_uri": "https://localhost:8080/"
    },
    "id": "nLxgpVIW97JP",
    "outputId": "c67c096b-3fd7-4e32-daa6-146bdbdf6226"
   },
   "outputs": [
    {
     "data": {
      "text/plain": [
       "3.6596427619333136"
      ]
     },
     "execution_count": 20,
     "metadata": {},
     "output_type": "execute_result"
    }
   ],
   "source": [
    "# Podemos acceder al contenido de un módulo con el punto:\n",
    "math.log10(4567.123567)"
   ]
  },
  {
   "cell_type": "markdown",
   "id": "c429dc87-56d2-4879-b256-9818dd31e048",
   "metadata": {
    "id": "p2yruyXb-9lb"
   },
   "source": [
    "## Cadenas de caracteres\n",
    "\n",
    "En Python también puedo definir cadenas de caracteres (conocidas usualmente como _strings_)"
   ]
  },
  {
   "cell_type": "code",
   "execution_count": 21,
   "id": "55d03d30-33b7-4d45-9355-5ec6c162674e",
   "metadata": {
    "id": "TxVS-ahL-x6r"
   },
   "outputs": [],
   "source": [
    "s1 = \"Hola\"\n",
    "s2 = \"Mundo\""
   ]
  },
  {
   "cell_type": "code",
   "execution_count": 22,
   "id": "b6956190-6ca7-47c8-aa5b-d481696c985a",
   "metadata": {
    "colab": {
     "base_uri": "https://localhost:8080/",
     "height": 55
    },
    "id": "JiwNLT3m_MhY",
    "outputId": "59ede78f-e799-4ba8-c1f8-b99d940b035d"
   },
   "outputs": [
    {
     "data": {
      "application/vnd.google.colaboratory.intrinsic+json": {
       "type": "string"
      },
      "text/plain": [
       "'Hola Mundo'"
      ]
     },
     "execution_count": 22,
     "metadata": {},
     "output_type": "execute_result"
    }
   ],
   "source": [
    "# Puedo combinar las variables utilizando las mismas comillas\n",
    "\"Hola\"    \" \"     \"Mundo\""
   ]
  },
  {
   "cell_type": "code",
   "execution_count": 23,
   "id": "fd85df0f-ea99-4daa-8bbd-c99af94db4c0",
   "metadata": {
    "colab": {
     "base_uri": "https://localhost:8080/",
     "height": 55
    },
    "id": "6lx_iFB__Nqo",
    "outputId": "5b45c56a-7bfe-4316-bcda-814374eea9bf"
   },
   "outputs": [
    {
     "data": {
      "application/vnd.google.colaboratory.intrinsic+json": {
       "type": "string"
      },
      "text/plain": [
       "'HolaMundo'"
      ]
     },
     "execution_count": 23,
     "metadata": {},
     "output_type": "execute_result"
    }
   ],
   "source": [
    "# Incluso puedo realizar operaciones entre las strings:\n",
    "s1 + s2"
   ]
  },
  {
   "cell_type": "code",
   "execution_count": 24,
   "id": "c456a460-3a97-46fa-80bc-ed73f0089ebe",
   "metadata": {
    "colab": {
     "base_uri": "https://localhost:8080/",
     "height": 55
    },
    "id": "xlZ9boVfAD-E",
    "outputId": "2f7c3f21-362a-4970-8d74-3ddc4411ce60"
   },
   "outputs": [
    {
     "data": {
      "application/vnd.google.colaboratory.intrinsic+json": {
       "type": "string"
      },
      "text/plain": [
       "'Hola Mundo cruel'"
      ]
     },
     "execution_count": 24,
     "metadata": {},
     "output_type": "execute_result"
    }
   ],
   "source": [
    "s1 + \" \" + s2 + \" cruel\""
   ]
  },
  {
   "cell_type": "code",
   "execution_count": 25,
   "id": "7e7ad43e-baf2-4124-93c5-a1bbf7c1668c",
   "metadata": {
    "id": "PBWMXRukAKiz"
   },
   "outputs": [],
   "source": [
    "#y eso incluso lo podemos guardar en una variable nueva:\n",
    "s3 = s1 + \" \" + s2 + \" cruel\""
   ]
  },
  {
   "cell_type": "code",
   "execution_count": 26,
   "id": "f19b33c1-0d25-42a3-ba85-094019b3fea9",
   "metadata": {
    "colab": {
     "base_uri": "https://localhost:8080/",
     "height": 55
    },
    "id": "2TL8yFXqAQ_S",
    "outputId": "dbd21d45-28d9-4151-ce98-f3b6cea68e82"
   },
   "outputs": [
    {
     "data": {
      "application/vnd.google.colaboratory.intrinsic+json": {
       "type": "string"
      },
      "text/plain": [
       "'Hola Mundo cruel'"
      ]
     },
     "execution_count": 26,
     "metadata": {},
     "output_type": "execute_result"
    }
   ],
   "source": [
    "s3"
   ]
  }
 ],
 "metadata": {
  "kernelspec": {
   "display_name": "Python 3 (ipykernel)",
   "language": "python",
   "name": "python3"
  },
  "language_info": {
   "codemirror_mode": {
    "name": "ipython",
    "version": 3
   },
   "file_extension": ".py",
   "mimetype": "text/x-python",
   "name": "python",
   "nbconvert_exporter": "python",
   "pygments_lexer": "ipython3",
   "version": "3.13.2"
  }
 },
 "nbformat": 4,
 "nbformat_minor": 5
}
